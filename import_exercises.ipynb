{
 "cells": [
  {
   "cell_type": "markdown",
   "id": "17f701b5",
   "metadata": {},
   "source": [
    "# 1\n",
    "Import and test 3 of the functions from your functions exercise file. Import each function in a different way:\n",
    "\n",
    "    a. Run an interactive python session and import the module. Call the is_vowel function using the . syntax.\n",
    "    b. Create a file named import_exericses.py. Within this file, use from to import the calculate_tip function directly. Call this function with values you choose and print the result.\n",
    "    c. Create a jupyter notebook named import_exercises.ipynb. Use from to import the get_letter_grade function and give it an alias. Test this function in your notebook."
   ]
  },
  {
   "cell_type": "code",
   "execution_count": 11,
   "id": "01375b53",
   "metadata": {},
   "outputs": [],
   "source": [
    "import functions_exercises as fex"
   ]
  },
  {
   "cell_type": "code",
   "execution_count": 12,
   "id": "c5ee03c9",
   "metadata": {},
   "outputs": [
    {
     "data": {
      "text/plain": [
       "True"
      ]
     },
     "execution_count": 12,
     "metadata": {},
     "output_type": "execute_result"
    }
   ],
   "source": [
    "fex.is_two(2)"
   ]
  },
  {
   "cell_type": "code",
   "execution_count": 13,
   "id": "2507a569",
   "metadata": {},
   "outputs": [
    {
     "data": {
      "text/plain": [
       "'B'"
      ]
     },
     "execution_count": 13,
     "metadata": {},
     "output_type": "execute_result"
    }
   ],
   "source": [
    "fex.get_letter_grade(88)"
   ]
  },
  {
   "cell_type": "code",
   "execution_count": 14,
   "id": "c975dfa4",
   "metadata": {},
   "outputs": [
    {
     "data": {
      "text/plain": [
       "True"
      ]
     },
     "execution_count": 14,
     "metadata": {},
     "output_type": "execute_result"
    }
   ],
   "source": [
    "fex.is_vowel('e')"
   ]
  },
  {
   "cell_type": "code",
   "execution_count": 16,
   "id": "af0ee658",
   "metadata": {},
   "outputs": [],
   "source": [
    "from functions_exercises import get_letter_grade as glg"
   ]
  },
  {
   "cell_type": "code",
   "execution_count": 17,
   "id": "218d2a96",
   "metadata": {},
   "outputs": [
    {
     "data": {
      "text/plain": [
       "'B'"
      ]
     },
     "execution_count": 17,
     "metadata": {},
     "output_type": "execute_result"
    }
   ],
   "source": [
    "glg(88)"
   ]
  },
  {
   "cell_type": "markdown",
   "id": "d117314c",
   "metadata": {},
   "source": [
    "# 2\n",
    "Read about and use the itertools module from the python standard library to help you solve the following problems (Hint: wrap the itertools results in a list to see the results).\n",
    "\n",
    "    - How many different ways can you combine a single letter from \"abc\" with either 1, 2, or 3?\n",
    "    - How many different combinations are there of 2 letters from \"abcd\"?\n",
    "    - How many different permutations are there of 2 letters from \"abcd\"?"
   ]
  },
  {
   "cell_type": "code",
   "execution_count": 20,
   "id": "8d6e9e79",
   "metadata": {},
   "outputs": [],
   "source": [
    "import itertools as itt"
   ]
  },
  {
   "cell_type": "code",
   "execution_count": 57,
   "id": "1febfc00",
   "metadata": {},
   "outputs": [
    {
     "data": {
      "text/plain": [
       "9"
      ]
     },
     "execution_count": 57,
     "metadata": {},
     "output_type": "execute_result"
    }
   ],
   "source": [
    "len(list(itt.product('abc','123')))"
   ]
  },
  {
   "cell_type": "code",
   "execution_count": 59,
   "id": "3b9f40cd",
   "metadata": {},
   "outputs": [
    {
     "data": {
      "text/plain": [
       "6"
      ]
     },
     "execution_count": 59,
     "metadata": {},
     "output_type": "execute_result"
    }
   ],
   "source": [
    "len(list(itt.combinations('abcd',2)))"
   ]
  },
  {
   "cell_type": "code",
   "execution_count": 61,
   "id": "4b6b10a8",
   "metadata": {},
   "outputs": [
    {
     "data": {
      "text/plain": [
       "12"
      ]
     },
     "execution_count": 61,
     "metadata": {},
     "output_type": "execute_result"
    }
   ],
   "source": [
    "len(list(itt.permutations('abcd',2)))"
   ]
  },
  {
   "cell_type": "markdown",
   "id": "30851f6a",
   "metadata": {},
   "source": [
    "# 3\n",
    "Save this file as profiles.json inside of your exercises directory (right click -> save file as...).\n",
    "\n",
    "Use the load function from the json module to open this file.\n",
    "\n",
    "\n",
    "import json\n",
    "\n",
    "json.load(open('profiles.json'))\n",
    "Your code should produce a list of dictionaries. Using this data, write some code that calculates and outputs the following information:\n",
    "\n",
    "Total number of users\n",
    "Number of active users\n",
    "Number of inactive users\n",
    "Grand total of balances for all users\n",
    "Average balance per user\n",
    "User with the lowest balance\n",
    "User with the highest balance\n",
    "Most common favorite fruit\n",
    "Least most common favorite fruit\n",
    "Total number of unread messages for all users"
   ]
  },
  {
   "cell_type": "code",
   "execution_count": null,
   "id": "fd1847d9",
   "metadata": {},
   "outputs": [],
   "source": []
  },
  {
   "cell_type": "code",
   "execution_count": null,
   "id": "ed303936",
   "metadata": {},
   "outputs": [],
   "source": []
  },
  {
   "cell_type": "code",
   "execution_count": null,
   "id": "dc3e5659",
   "metadata": {},
   "outputs": [],
   "source": []
  },
  {
   "cell_type": "code",
   "execution_count": null,
   "id": "8138e1a4",
   "metadata": {},
   "outputs": [],
   "source": []
  },
  {
   "cell_type": "code",
   "execution_count": null,
   "id": "e5e3d165",
   "metadata": {},
   "outputs": [],
   "source": []
  },
  {
   "cell_type": "code",
   "execution_count": null,
   "id": "5b5299a9",
   "metadata": {},
   "outputs": [],
   "source": []
  },
  {
   "cell_type": "code",
   "execution_count": null,
   "id": "2c0bdb78",
   "metadata": {},
   "outputs": [],
   "source": []
  },
  {
   "cell_type": "code",
   "execution_count": null,
   "id": "008e50ad",
   "metadata": {},
   "outputs": [],
   "source": []
  },
  {
   "cell_type": "code",
   "execution_count": null,
   "id": "f1ce6fc2",
   "metadata": {},
   "outputs": [],
   "source": []
  },
  {
   "cell_type": "code",
   "execution_count": null,
   "id": "4e70f524",
   "metadata": {},
   "outputs": [],
   "source": []
  },
  {
   "cell_type": "code",
   "execution_count": null,
   "id": "508724c0",
   "metadata": {},
   "outputs": [],
   "source": []
  },
  {
   "cell_type": "code",
   "execution_count": null,
   "id": "b462a629",
   "metadata": {},
   "outputs": [],
   "source": []
  },
  {
   "cell_type": "code",
   "execution_count": null,
   "id": "f861975e",
   "metadata": {},
   "outputs": [],
   "source": []
  },
  {
   "cell_type": "code",
   "execution_count": null,
   "id": "f6c9726d",
   "metadata": {},
   "outputs": [],
   "source": []
  },
  {
   "cell_type": "code",
   "execution_count": null,
   "id": "9b4315f3",
   "metadata": {},
   "outputs": [],
   "source": []
  }
 ],
 "metadata": {
  "kernelspec": {
   "display_name": "Python 3 (ipykernel)",
   "language": "python",
   "name": "python3"
  },
  "language_info": {
   "codemirror_mode": {
    "name": "ipython",
    "version": 3
   },
   "file_extension": ".py",
   "mimetype": "text/x-python",
   "name": "python",
   "nbconvert_exporter": "python",
   "pygments_lexer": "ipython3",
   "version": "3.9.13"
  }
 },
 "nbformat": 4,
 "nbformat_minor": 5
}
