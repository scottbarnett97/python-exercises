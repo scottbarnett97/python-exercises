{
 "cells": [
  {
   "cell_type": "markdown",
   "id": "b4718a94",
   "metadata": {},
   "source": [
    "# Control Structures Exercises"
   ]
  },
  {
   "cell_type": "markdown",
   "id": "cf3af5c5",
   "metadata": {},
   "source": [
    "1. Conditional Basics\n",
    "\n",
    "a. Prompt the user for a day of the week, print out whether the day is Monday or not\n",
    "\n",
    "b. Prompt the user for a day of the week, print out whether the day is a weekday or a weekend\n",
    "\n",
    "c. Calculate a weekly paycheck, accounting for overtime pay. Create variables and make up values for:\n",
    "\n",
    "        1. The number of hours worked in one week\n",
    "        2. The hourly rate\n",
    "    For calculating pay:\n",
    "        1. For working 40 hours or less, each hour is paid at the hourly rate\n",
    "        2. For working more than 40 hours\n",
    "            a.the first 40 hours are paid at the hourly rate\n",
    "            b. each hour after 40 is paid at time and a half (hourly rate * 1.5)"
   ]
  },
  {
   "cell_type": "code",
   "execution_count": 1,
   "id": "7af16857",
   "metadata": {},
   "outputs": [],
   "source": [
    "day_of_week = ['Monday','Tuesday','Wednesday','Thursday','Friday','Saturday','Sunday']"
   ]
  },
  {
   "cell_type": "code",
   "execution_count": 2,
   "id": "cdc294b8",
   "metadata": {},
   "outputs": [
    {
     "name": "stdout",
     "output_type": "stream",
     "text": [
      "What day is it?monday\n",
      "Hey It Is Monday\n"
     ]
    }
   ],
   "source": [
    "d = input('What day is it?').lower()\n",
    "if d == 'monday':\n",
    "    print('Hey It Is Monday')\n",
    "else :\n",
    "    print('It is not Monday')"
   ]
  },
  {
   "cell_type": "code",
   "execution_count": null,
   "id": "d0106b19",
   "metadata": {},
   "outputs": [],
   "source": [
    "d = input('What day is it?').lower()\n",
    "if d in ['saturday','sunday']:\n",
    "    print('It Is The Weekend!!!!')\n",
    "else :\n",
    "    print('It is a weekday')\n"
   ]
  },
  {
   "cell_type": "code",
   "execution_count": null,
   "id": "7fb5fa58",
   "metadata": {},
   "outputs": [],
   "source": [
    "h = float(input('How many hours did you work in the week?'))\n",
    "r = float(input('What is your hourly rate?'))\n",
    "if h <= 40 :\n",
    "    pay = h * r\n",
    "elif h > 40 :\n",
    "    pay = (40*r)+((h-40)*(1.5*r))\n",
    "print(pay)"
   ]
  },
  {
   "cell_type": "markdown",
   "id": "cf3e7359",
   "metadata": {},
   "source": [
    "# 2. a.i.\n",
    "Loop Basics\n",
    "\n",
    "While\n",
    "\n",
    "Create an integer variable i with a value of 5. Create a while loop that runs so long as i is less than or equal to 15. Each loop iteration, output the current value of i, then increment i by one."
   ]
  },
  {
   "cell_type": "code",
   "execution_count": null,
   "id": "3195fdb0",
   "metadata": {},
   "outputs": [],
   "source": [
    "i = 5\n",
    "while i <= 15 :\n",
    "    print(i)\n",
    "    i = i+1\n",
    "    \n",
    "    ## could also say\"i += 1\""
   ]
  },
  {
   "cell_type": "markdown",
   "id": "58dce1d7",
   "metadata": {},
   "source": [
    "# 2 a.ii\n",
    "Create a while loop that will count by 2's starting with 0 and ending at 100. Follow each number with a new line."
   ]
  },
  {
   "cell_type": "code",
   "execution_count": null,
   "id": "7f3f81ff",
   "metadata": {},
   "outputs": [],
   "source": [
    "i = 0\n",
    "while i <= 100:\n",
    "    print(i)\n",
    "    i = i+2"
   ]
  },
  {
   "cell_type": "markdown",
   "id": "47da43ca",
   "metadata": {},
   "source": [
    "# 2 a.iii\n",
    "Create a while loop that starts at 2, and displays the number squared on each line while the number is less than 1,000,000. Output should equal:"
   ]
  },
  {
   "cell_type": "code",
   "execution_count": null,
   "id": "5196d182",
   "metadata": {},
   "outputs": [],
   "source": [
    "i=2\n",
    "while i<=1000000:\n",
    "    print(i)\n",
    "    i= i**2"
   ]
  },
  {
   "cell_type": "markdown",
   "id": "0f51a3de",
   "metadata": {},
   "source": [
    "# 2 a.iv\n",
    "Write a while loop that uses print to create the output shown below."
   ]
  },
  {
   "cell_type": "code",
   "execution_count": null,
   "id": "573241f5",
   "metadata": {},
   "outputs": [],
   "source": [
    "i=100\n",
    "while i >= 5:\n",
    "    print(i)\n",
    "    i= i-5"
   ]
  },
  {
   "cell_type": "markdown",
   "id": "6383c990",
   "metadata": {},
   "source": [
    "# 2.b.i\n",
    "Write some code using a for loop that prompts the user for a number, then shows a multiplication table up through 10 for that number.\n",
    "\n",
    "For example, if the user enters 7, your program should output:\n",
    "7 x 1 = 7\n",
    "7 x 2 = 14\n",
    "7 x 3 = 21\n",
    "7 x 4 = 28\n",
    "7 x 5 = 35\n",
    "7 x 6 = 42\n",
    "7 x 7 = 49\n",
    "7 x 8 = 56\n",
    "7 x 9 = 63\n",
    "7 x 10 = 70\n"
   ]
  },
  {
   "cell_type": "code",
   "execution_count": null,
   "id": "71e562a9",
   "metadata": {},
   "outputs": [],
   "source": [
    "i = int(input('Pick any number:'))\n",
    "r = range(1,11)\n",
    "for x in r :\n",
    "    y = i * x\n",
    "    print(i,' X ', x, '=', y)\n",
    "    "
   ]
  },
  {
   "cell_type": "markdown",
   "id": "50095a6b",
   "metadata": {},
   "source": [
    "# 2.b.ii\n",
    "Create a for loop that uses print to create the output shown below.\n",
    "1\n",
    "22\n",
    "333\n",
    "4444\n",
    "55555\n",
    "666666\n",
    "7777777\n",
    "88888888\n",
    "999999999\n"
   ]
  },
  {
   "cell_type": "code",
   "execution_count": null,
   "id": "c1899bf1",
   "metadata": {},
   "outputs": [],
   "source": [
    "for i in range(1,10):\n",
    "    for j in range(1, i+1):\n",
    "        print(i, end=\"\")\n",
    "    print()"
   ]
  },
  {
   "cell_type": "code",
   "execution_count": null,
   "id": "8c1e5fa6",
   "metadata": {},
   "outputs": [],
   "source": [
    "for i in range[i,i+10]\n",
    "    print (str(i)*i)"
   ]
  },
  {
   "cell_type": "markdown",
   "id": "70783aca",
   "metadata": {},
   "source": [
    "# 2.c.i\n",
    "break and continue\n",
    "\n",
    "Write a program that prompts the user for a positive integer. Next write a loop that prints out the numbers from the number the user entered down to 1."
   ]
  },
  {
   "cell_type": "code",
   "execution_count": null,
   "id": "1df55ee3",
   "metadata": {},
   "outputs": [],
   "source": [
    "i = int(input('Enter a whole number'))\n",
    "while i >= 1 :\n",
    "    print(i)\n",
    "    i = i-1"
   ]
  },
  {
   "cell_type": "code",
   "execution_count": null,
   "id": "4079843e",
   "metadata": {},
   "outputs": [],
   "source": [
    "i = int(input('Enter a whole number'))\n",
    "for i in range(i,0,-1):\n",
    "    print(i)"
   ]
  },
  {
   "cell_type": "markdown",
   "id": "00c2022d",
   "metadata": {},
   "source": [
    "# 2.c.ii\n",
    "The input function can be used to prompt for input and use that input in your python code. Prompt the user to enter a positive number and write a loop that counts from 0 to that number. (Hints: note that the input function returns a string, so you'll need to convert this to a numeric type.)"
   ]
  },
  {
   "cell_type": "code",
   "execution_count": null,
   "id": "1ddb3518",
   "metadata": {},
   "outputs": [],
   "source": [
    "i = int(input('Enter a whole number'))\n",
    "x = 0\n",
    "while x <= i :\n",
    "    print(x)\n",
    "    x = x+1"
   ]
  },
  {
   "cell_type": "markdown",
   "id": "378230b2",
   "metadata": {},
   "source": [
    "# 2.c.iii\n",
    "Prompt the user for an odd number between 1 and 50. Use a loop and a break statement to continue prompting the user if they enter invalid input. (Hint: use the isdigit method on strings to determine this). Use a loop and the continue statement to output all the odd numbers between 1 and 50, except for the number the user entered.\n",
    "\n",
    "Your output should look like this:\n",
    "Number to skip is: 27\n",
    "\n",
    "Here is an odd number: 1\n",
    "Here is an odd number: 3\n",
    "Here is an odd number: 5\n",
    "Here is an odd number: 7\n",
    "Here is an odd number: 9\n",
    "Here is an odd number: 11\n",
    "Here is an odd number: 13\n",
    "Here is an odd number: 15\n",
    "Here is an odd number: 17\n",
    "Here is an odd number: 19\n",
    "Here is an odd number: 21\n",
    "Here is an odd number: 23\n",
    "Here is an odd number: 25\n",
    "Yikes! Skipping number: 27\n",
    "Here is an odd number: 29\n",
    "Here is an odd number: 31\n",
    "Here is an odd number: 33\n",
    "Here is an odd number: 35\n",
    "Here is an odd number: 37\n",
    "Here is an odd number: 39\n",
    "Here is an odd number: 41\n",
    "Here is an odd number: 43\n",
    "Here is an odd number: 45\n",
    "Here is an odd number: 47\n",
    "Here is an odd number: 49\n"
   ]
  },
  {
   "cell_type": "code",
   "execution_count": 1,
   "id": "ba4e2159",
   "metadata": {},
   "outputs": [
    {
     "name": "stdout",
     "output_type": "stream",
     "text": [
      "Enter an odd number between 1 and 50: j\n",
      "not a valid number\n",
      "Enter an odd number between 1 and 50: 7\n",
      "Great\n"
     ]
    }
   ],
   "source": [
    "\n",
    "while True :\n",
    "    i = input('Enter an odd number between 1 and 50: ')\n",
    "    if i.isdigit() == False:\n",
    "        print('not a valid number')\n",
    "        continue\n",
    "    elif (int(i) % 2) == 0:\n",
    "        print('This is not an odd number, try again')\n",
    "        i = int(input('Enter an odd number between 1 and 50: '))\n",
    "    else:\n",
    "        print(\"Great\")\n",
    "        break\n",
    "        \n"
   ]
  },
  {
   "cell_type": "code",
   "execution_count": null,
   "id": "56d15ef9",
   "metadata": {},
   "outputs": [],
   "source": [
    "# i = int(input('Enter an odd number between 1 and 50'))\n",
    "elif (i % 2) != 0 :\n",
    "    print(\"Great\")"
   ]
  },
  {
   "cell_type": "code",
   "execution_count": null,
   "id": "db6d6b00",
   "metadata": {},
   "outputs": [],
   "source": [
    "if (i % 2) != 0 :\n",
    "    print(\"Great\")\n",
    "    break"
   ]
  },
  {
   "cell_type": "code",
   "execution_count": null,
   "id": "e8521146",
   "metadata": {},
   "outputs": [],
   "source": []
  },
  {
   "cell_type": "code",
   "execution_count": null,
   "id": "b1ab61aa",
   "metadata": {},
   "outputs": [],
   "source": []
  },
  {
   "cell_type": "code",
   "execution_count": null,
   "id": "553061a4",
   "metadata": {},
   "outputs": [],
   "source": []
  }
 ],
 "metadata": {
  "kernelspec": {
   "display_name": "Python 3 (ipykernel)",
   "language": "python",
   "name": "python3"
  },
  "language_info": {
   "codemirror_mode": {
    "name": "ipython",
    "version": 3
   },
   "file_extension": ".py",
   "mimetype": "text/x-python",
   "name": "python",
   "nbconvert_exporter": "python",
   "pygments_lexer": "ipython3",
   "version": "3.9.13"
  }
 },
 "nbformat": 4,
 "nbformat_minor": 5
}
