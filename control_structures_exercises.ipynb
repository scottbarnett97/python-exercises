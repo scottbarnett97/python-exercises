{
 "cells": [
  {
   "cell_type": "markdown",
   "id": "b4718a94",
   "metadata": {},
   "source": [
    "# Control Structures Exercises"
   ]
  },
  {
   "cell_type": "markdown",
   "id": "cf3af5c5",
   "metadata": {},
   "source": [
    "1. Conditional Basics\n",
    "\n",
    "a. Prompt the user for a day of the week, print out whether the day is Monday or not\n",
    "\n",
    "b. Prompt the user for a day of the week, print out whether the day is a weekday or a weekend\n",
    "\n",
    "c. Calculate a weekly paycheck, accounting for overtime pay. Create variables and make up values for:\n",
    "\n",
    "        1. The number of hours worked in one week\n",
    "        2. The hourly rate\n",
    "    For calculating pay:\n",
    "        1. For working 40 hours or less, each hour is paid at the hourly rate\n",
    "        2. For working more than 40 hours\n",
    "            a.the first 40 hours are paid at the hourly rate\n",
    "            b. each hour after 40 is paid at time and a half (hourly rate * 1.5)"
   ]
  },
  {
   "cell_type": "code",
   "execution_count": 1,
   "id": "7af16857",
   "metadata": {},
   "outputs": [],
   "source": [
    "day_of_week = ['Monday','Tuesday','Wednesday','Thursday','Friday','Saturday','Sunday']"
   ]
  },
  {
   "cell_type": "code",
   "execution_count": 2,
   "id": "cdc294b8",
   "metadata": {},
   "outputs": [
    {
     "name": "stdout",
     "output_type": "stream",
     "text": [
      "What day is it?monday\n",
      "Hey It Is Monday\n"
     ]
    }
   ],
   "source": [
    "d = input('What day is it?').lower()\n",
    "if d == 'monday':\n",
    "    print('Hey It Is Monday')\n",
    "else :\n",
    "    print('It is not Monday')"
   ]
  },
  {
   "cell_type": "code",
   "execution_count": null,
   "id": "d0106b19",
   "metadata": {},
   "outputs": [],
   "source": [
    "d = input('What day is it?').lower()\n",
    "if d in ['saturday','sunday']:\n",
    "    print('It Is The Weekend!!!!')\n",
    "else :\n",
    "    print('It is a weekday')\n"
   ]
  },
  {
   "cell_type": "code",
   "execution_count": null,
   "id": "7fb5fa58",
   "metadata": {},
   "outputs": [],
   "source": [
    "h = float(input('How many hours did you work in the week?'))\n",
    "r = float(input('What is your hourly rate?'))\n",
    "if h <= 40 :\n",
    "    pay = h * r\n",
    "elif h > 40 :\n",
    "    pay = (40*r)+((h-40)*(1.5*r))\n",
    "print(pay)"
   ]
  },
  {
   "cell_type": "markdown",
   "id": "40a9926f",
   "metadata": {},
   "source": [
    "# 2. a.i.\n",
    "Loop Basics\n",
    "\n",
    "While\n",
    "\n",
    "Create an integer variable i with a value of 5. Create a while loop that runs so long as i is less than or equal to 15. Each loop iteration, output the current value of i, then increment i by one."
   ]
  },
  {
   "cell_type": "code",
   "execution_count": null,
   "id": "3195fdb0",
   "metadata": {},
   "outputs": [],
   "source": [
    "i = 5\n",
    "while i <= 15 :\n",
    "    print(i)\n",
    "    i = i+1\n",
    "    \n",
    "    ## could also say\"i += 1\""
   ]
  },
  {
   "cell_type": "markdown",
   "id": "81e8fc10",
   "metadata": {},
   "source": [
    "# 2 a.ii\n",
    "Create a while loop that will count by 2's starting with 0 and ending at 100. Follow each number with a new line."
   ]
  },
  {
   "cell_type": "code",
   "execution_count": null,
   "id": "d3177751",
   "metadata": {},
   "outputs": [],
   "source": [
    "i = 0\n",
    "while i <= 100:\n",
    "    print(i)\n",
    "    i = i+2"
   ]
  },
  {
   "cell_type": "markdown",
   "id": "17278dfa",
   "metadata": {},
   "source": [
    "# 2 a.iii\n",
    "Create a while loop that starts at 2, and displays the number squared on each line while the number is less than 1,000,000. Output should equal:"
   ]
  },
  {
   "cell_type": "code",
   "execution_count": null,
   "id": "0f5b377f",
   "metadata": {},
   "outputs": [],
   "source": [
    "i=2\n",
    "while i<=1000000:\n",
    "    print(i)\n",
    "    i= i**2"
   ]
  },
  {
   "cell_type": "markdown",
   "id": "c453155d",
   "metadata": {},
   "source": [
    "# 2 a.iv\n",
    "Write a while loop that uses print to create the output shown below."
   ]
  },
  {
   "cell_type": "code",
   "execution_count": null,
   "id": "57172b69",
   "metadata": {},
   "outputs": [],
   "source": [
    "i=100\n",
    "while i >= 5:\n",
    "    print(i)\n",
    "    i= i-5"
   ]
  },
  {
   "cell_type": "markdown",
   "id": "f496c753",
   "metadata": {},
   "source": [
    "# 2.b.i\n",
    "Write some code using a for loop that prompts the user for a number, then shows a multiplication table up through 10 for that number.\n",
    "\n",
    "For example, if the user enters 7, your program should output:\n",
    "7 x 1 = 7\n",
    "7 x 2 = 14\n",
    "7 x 3 = 21\n",
    "7 x 4 = 28\n",
    "7 x 5 = 35\n",
    "7 x 6 = 42\n",
    "7 x 7 = 49\n",
    "7 x 8 = 56\n",
    "7 x 9 = 63\n",
    "7 x 10 = 70\n"
   ]
  },
  {
   "cell_type": "code",
   "execution_count": null,
   "id": "58f63971",
   "metadata": {},
   "outputs": [],
   "source": [
    "i = int(input('Pick any number:'))\n",
    "r = range(1,11)\n",
    "for x in r :\n",
    "    y = i * x\n",
    "    print(i,' X ', x, '=', y)\n",
    "    "
   ]
  },
  {
   "cell_type": "markdown",
   "id": "f665a31f",
   "metadata": {},
   "source": [
    "# 2.b.ii\n",
    "Create a for loop that uses print to create the output shown below.\n",
    "1\n",
    "22\n",
    "333\n",
    "4444\n",
    "55555\n",
    "666666\n",
    "7777777\n",
    "88888888\n",
    "999999999\n"
   ]
  },
  {
   "cell_type": "code",
   "execution_count": null,
   "id": "0aeb47ed",
   "metadata": {},
   "outputs": [],
   "source": [
    "for i in range(1,10):\n",
    "    for j in range(1, i+1):\n",
    "        print(i, end=\"\")\n",
    "    print()"
   ]
  },
  {
   "cell_type": "code",
   "execution_count": null,
   "id": "893252d1",
   "metadata": {},
   "outputs": [],
   "source": [
    "for i in range[i,i+10]\n",
    "    print (str(i)*i)"
   ]
  },
  {
   "cell_type": "markdown",
   "id": "70bafdd1",
   "metadata": {},
   "source": [
    "# 2.c.i\n",
    "break and continue\n",
    "\n",
    "Write a program that prompts the user for a positive integer. Next write a loop that prints out the numbers from the number the user entered down to 1."
   ]
  },
  {
   "cell_type": "code",
   "execution_count": null,
   "id": "c123eb18",
   "metadata": {},
   "outputs": [],
   "source": [
    "i = int(input('Enter a whole number'))\n",
    "while i >= 1 :\n",
    "    print(i)\n",
    "    i = i-1"
   ]
  },
  {
   "cell_type": "code",
   "execution_count": null,
   "id": "ad36b24a",
   "metadata": {},
   "outputs": [],
   "source": [
    "i = int(input('Enter a whole number'))\n",
    "for i in range(i,0,-1):\n",
    "    print(i)"
   ]
  },
  {
   "cell_type": "markdown",
   "id": "469fe892",
   "metadata": {},
   "source": [
    "# 2.c.ii\n",
    "The input function can be used to prompt for input and use that input in your python code. Prompt the user to enter a positive number and write a loop that counts from 0 to that number. (Hints: note that the input function returns a string, so you'll need to convert this to a numeric type.)"
   ]
  },
  {
   "cell_type": "code",
   "execution_count": null,
   "id": "009fad6d",
   "metadata": {},
   "outputs": [],
   "source": [
    "i = int(input('Enter a whole number'))\n",
    "x = 0\n",
    "while x <= i :\n",
    "    print(x)\n",
    "    x = x+1"
   ]
  },
  {
   "cell_type": "markdown",
   "id": "ef52d845",
   "metadata": {},
   "source": [
    "# 2.c.iii\n",
    "Prompt the user for an odd number between 1 and 50. Use a loop and a break statement to continue prompting the user if they enter invalid input. (Hint: use the isdigit method on strings to determine this). Use a loop and the continue statement to output all the odd numbers between 1 and 50, except for the number the user entered.\n",
    "\n",
    "Your output should look like this:\n",
    "Number to skip is: 27\n",
    "\n",
    "Here is an odd number: 1\n",
    "Here is an odd number: 3\n",
    "Here is an odd number: 5\n",
    "Here is an odd number: 7\n",
    "Here is an odd number: 9\n",
    "Here is an odd number: 11\n",
    "Here is an odd number: 13\n",
    "Here is an odd number: 15\n",
    "Here is an odd number: 17\n",
    "Here is an odd number: 19\n",
    "Here is an odd number: 21\n",
    "Here is an odd number: 23\n",
    "Here is an odd number: 25\n",
    "Yikes! Skipping number: 27\n",
    "Here is an odd number: 29\n",
    "Here is an odd number: 31\n",
    "Here is an odd number: 33\n",
    "Here is an odd number: 35\n",
    "Here is an odd number: 37\n",
    "Here is an odd number: 39\n",
    "Here is an odd number: 41\n",
    "Here is an odd number: 43\n",
    "Here is an odd number: 45\n",
    "Here is an odd number: 47\n",
    "Here is an odd number: 49\n"
   ]
  },
  {
   "cell_type": "code",
   "execution_count": 9,
   "id": "d88e9ba9",
   "metadata": {},
   "outputs": [
    {
     "name": "stdout",
     "output_type": "stream",
     "text": [
      "Enter an odd number between 1 and 50: 3\n",
      "Great\n",
      "1\n",
      "SKIP THIS NUMBER: 3\n",
      "5\n",
      "7\n",
      "9\n",
      "11\n",
      "13\n",
      "15\n",
      "17\n",
      "19\n",
      "21\n",
      "23\n",
      "25\n",
      "27\n",
      "29\n",
      "31\n",
      "33\n",
      "35\n",
      "37\n",
      "39\n",
      "41\n",
      "43\n",
      "45\n",
      "47\n",
      "49\n"
     ]
    }
   ],
   "source": [
    "\n",
    "while True :\n",
    "    n = input('Enter an odd number between 1 and 50: ')\n",
    "    if n.isdigit() == False:\n",
    "        print('not a valid number')\n",
    "        continue\n",
    "    n = int(n)\n",
    "    if (n) % 2 == 0:\n",
    "        print('This is not an odd number, try again')\n",
    "        n = int(input('Enter an odd number between 1 and 50: '))\n",
    "    else:\n",
    "        print(\"Great\")\n",
    "        break\n",
    "for i in range(1,51,2):\n",
    "    if i == n:\n",
    "        print(f'SKIP THIS NUMBER: {n}')\n",
    "        continue\n",
    "    print(i) \n"
   ]
  },
  {
   "cell_type": "markdown",
   "id": "c8b2d4e5",
   "metadata": {},
   "source": [
    "# 3.\n",
    "Fizzbuzz\n",
    "\n",
    "One of the most common interview questions for entry-level programmers is the FizzBuzz test. Developed by Imran Ghory, the test is designed to test basic looping and conditional logic skills.\n",
    "\n",
    "Write a program that prints the numbers from 1 to 100.\n",
    "For multiples of three print \"Fizz\" instead of the number\n",
    "For the multiples of five print \"Buzz\".\n",
    "For numbers which are multiples of both three and five print \"FizzBuzz\"."
   ]
  },
  {
   "cell_type": "code",
   "execution_count": 54,
   "id": "bbf3ea1c",
   "metadata": {},
   "outputs": [
    {
     "name": "stdout",
     "output_type": "stream",
     "text": [
      "1\n",
      "2\n",
      "Fizz\n",
      "3\n",
      "4\n",
      "Buzz\n",
      "Fizz\n",
      "6\n",
      "7\n",
      "8\n",
      "Fizz\n",
      "9\n",
      "Buzz\n",
      "11\n",
      "Fizz\n",
      "12\n",
      "13\n",
      "14\n",
      "FizzBuzz\n",
      "Fizz\n",
      "Buzz\n",
      "16\n",
      "17\n",
      "Fizz\n",
      "18\n",
      "19\n",
      "Buzz\n",
      "Fizz\n",
      "21\n",
      "22\n",
      "23\n",
      "Fizz\n",
      "24\n",
      "Buzz\n",
      "26\n",
      "Fizz\n",
      "27\n",
      "28\n",
      "29\n",
      "FizzBuzz\n",
      "Fizz\n",
      "Buzz\n",
      "31\n",
      "32\n",
      "Fizz\n",
      "33\n",
      "34\n",
      "Buzz\n",
      "Fizz\n",
      "36\n",
      "37\n",
      "38\n",
      "Fizz\n",
      "39\n",
      "Buzz\n",
      "41\n",
      "Fizz\n",
      "42\n",
      "43\n",
      "44\n",
      "FizzBuzz\n",
      "Fizz\n",
      "Buzz\n",
      "46\n",
      "47\n",
      "Fizz\n",
      "48\n",
      "49\n",
      "Buzz\n",
      "Fizz\n",
      "51\n",
      "52\n",
      "53\n",
      "Fizz\n",
      "54\n",
      "Buzz\n",
      "56\n",
      "Fizz\n",
      "57\n",
      "58\n",
      "59\n",
      "FizzBuzz\n",
      "Fizz\n",
      "Buzz\n",
      "61\n",
      "62\n",
      "Fizz\n",
      "63\n",
      "64\n",
      "Buzz\n",
      "Fizz\n",
      "66\n",
      "67\n",
      "68\n",
      "Fizz\n",
      "69\n",
      "Buzz\n",
      "71\n",
      "Fizz\n",
      "72\n",
      "73\n",
      "74\n",
      "FizzBuzz\n",
      "Fizz\n",
      "Buzz\n",
      "76\n",
      "77\n",
      "Fizz\n",
      "78\n",
      "79\n",
      "Buzz\n",
      "Fizz\n",
      "81\n",
      "82\n",
      "83\n",
      "Fizz\n",
      "84\n",
      "Buzz\n",
      "86\n",
      "Fizz\n",
      "87\n",
      "88\n",
      "89\n",
      "FizzBuzz\n",
      "Fizz\n",
      "Buzz\n",
      "91\n",
      "92\n",
      "Fizz\n",
      "93\n",
      "94\n",
      "Buzz\n",
      "Fizz\n",
      "96\n",
      "97\n",
      "98\n",
      "Fizz\n",
      "99\n",
      "Buzz\n"
     ]
    }
   ],
   "source": [
    "for num in range(1,101):\n",
    "    if num%3 ==0 and num%5 ==0:\n",
    "        print('FizzBuzz')\n",
    "    if  num%3 == 0:\n",
    "        print('Fizz')\n",
    "    if num%5 ==0:\n",
    "        print('Buzz')\n",
    "    else:\n",
    "        print (num)    "
   ]
  },
  {
   "cell_type": "code",
   "execution_count": 21,
   "id": "3fbd4bf4",
   "metadata": {},
   "outputs": [
    {
     "name": "stdout",
     "output_type": "stream",
     "text": [
      "1\n",
      "2\n",
      "Fizz\n",
      "4\n",
      "Buzz\n",
      "Fizz\n",
      "7\n",
      "8\n",
      "Fizz\n",
      "Buzz\n",
      "11\n",
      "Fizz\n",
      "13\n",
      "14\n",
      "FizzBuzz\n",
      "16\n",
      "17\n",
      "Fizz\n",
      "19\n",
      "Buzz\n",
      "Fizz\n",
      "22\n",
      "23\n",
      "Fizz\n",
      "Buzz\n",
      "26\n",
      "Fizz\n",
      "28\n",
      "29\n",
      "FizzBuzz\n",
      "31\n",
      "32\n",
      "Fizz\n",
      "34\n",
      "Buzz\n",
      "Fizz\n",
      "37\n",
      "38\n",
      "Fizz\n",
      "Buzz\n",
      "41\n",
      "Fizz\n",
      "43\n",
      "44\n",
      "FizzBuzz\n",
      "46\n",
      "47\n",
      "Fizz\n",
      "49\n",
      "Buzz\n",
      "Fizz\n",
      "52\n",
      "53\n",
      "Fizz\n",
      "Buzz\n",
      "56\n",
      "Fizz\n",
      "58\n",
      "59\n",
      "FizzBuzz\n",
      "61\n",
      "62\n",
      "Fizz\n",
      "64\n",
      "Buzz\n",
      "Fizz\n",
      "67\n",
      "68\n",
      "Fizz\n",
      "Buzz\n",
      "71\n",
      "Fizz\n",
      "73\n",
      "74\n",
      "FizzBuzz\n",
      "76\n",
      "77\n",
      "Fizz\n",
      "79\n",
      "Buzz\n",
      "Fizz\n",
      "82\n",
      "83\n",
      "Fizz\n",
      "Buzz\n",
      "86\n",
      "Fizz\n",
      "88\n",
      "89\n",
      "FizzBuzz\n",
      "91\n",
      "92\n",
      "Fizz\n",
      "94\n",
      "Buzz\n",
      "Fizz\n",
      "97\n",
      "98\n",
      "Fizz\n",
      "Buzz\n"
     ]
    }
   ],
   "source": [
    "print(*map(lambda i: 'Fizz'*(not i%3)+'Buzz'*(not i%5) or i, range(1,101)),sep='\\n')\n"
   ]
  },
  {
   "cell_type": "markdown",
   "id": "dfdc95e0",
   "metadata": {},
   "source": [
    "# 4\n",
    "Display a table of powers.\n",
    "\n",
    "Prompt the user to enter an integer\n",
    "Display a table of squares and cubes from 1 to the value entered\n",
    "Ask if the user wants to continue\n",
    "Assume that the user will enter valid data\n",
    "Only continue if the user agrees to\n",
    "What number would you like to go up to? 5\n",
    "\n",
    "Here is your table!\n",
    "\n",
    "number | squared | cubed\n",
    "------ | ------- | -----\n",
    "1      | 1       | 1\n",
    "2      | 4       | 8\n",
    "3      | 9       | 27\n",
    "4      | 16      | 64\n",
    "5      | 25      | 125\n"
   ]
  },
  {
   "cell_type": "code",
   "execution_count": null,
   "id": "318ebc92",
   "metadata": {},
   "outputs": [],
   "source": [
    "num = int(input(\"What number would you like to go to: \"))\n",
    "    "
   ]
  },
  {
   "cell_type": "code",
   "execution_count": 39,
   "id": "f5f811d4",
   "metadata": {},
   "outputs": [
    {
     "name": "stdout",
     "output_type": "stream",
     "text": [
      "What number would you like to go to: 3\n",
      "number|\tsquared|\tcube\n",
      "----- |------- |----- \n",
      "1 | 1 | 1\n",
      "2 | 4 | 8\n",
      "3 | 9 | 27\n",
      "\n",
      "Do you want to continue? (Y/N): Y\n",
      "What number would you like to go to: 3\n",
      "number|\tsquared|\tcube\n",
      "----- |------- |----- \n",
      "1 | 1 | 1\n",
      "2 | 4 | 8\n",
      "3 | 9 | 27\n",
      "\n",
      "Do you want to continue? (Y/N): N\n",
      "goodbye\n"
     ]
    }
   ],
   "source": [
    "while True:\n",
    "    i=int(input(\"What number would you like to go to: \"))\n",
    "    print('number|\\tsquared|\\tcube')\n",
    "    print(\"----- |------- |----- \")\n",
    "\n",
    "    for i in range(1,i+1):\n",
    "        print(f'{i} | {i**2} | {i**3}')\n",
    "    choice = input(\"\\nDo you want to continue? (Y/N): \")\n",
    "    if choice.upper() == \"N\":\n",
    "        print('goodbye')\n",
    "        break\n",
    "    if choice.upper() == \"Y\":\n",
    "        continue"
   ]
  },
  {
   "cell_type": "markdown",
   "id": "91e1a2ef",
   "metadata": {},
   "source": [
    "# 5\n",
    "Convert given number grades into letter grades.\n",
    "\n",
    "Prompt the user for a numerical grade from 0 to 100\n",
    "Display the corresponding letter grade\n",
    "Prompt the user to continue\n",
    "Assume that the user will enter valid integers for the grades\n",
    "The application should only continue if the user agrees to\n",
    "Grade Ranges:\n",
    "\n",
    "A : 100 - 88\n",
    "B : 87 - 80\n",
    "C : 79 - 67\n",
    "D : 66 - 60\n",
    "F : 59 - 0\n",
    "Bonus: Edit your grade ranges to include pluses and minuses (ex: 99-100 = A+).\n",
    "    "
   ]
  },
  {
   "cell_type": "code",
   "execution_count": null,
   "id": "ee4ad141",
   "metadata": {},
   "outputs": [
    {
     "name": "stdout",
     "output_type": "stream",
     "text": [
      "What is the grade on a scale of 0-100?: 88\n",
      "88 = A\n",
      "\n",
      "Do you want to continue? (Y/N): n\n",
      "goodbye\n",
      "88 = A\n"
     ]
    }
   ],
   "source": [
    "while True:\n",
    "    g = (int(input(\"What is the grade on a scale of 0-100?: \")))\n",
    "    for i in range(0,101):\n",
    "        print(g,end=\" = \")\n",
    "        if g in range(88,101):\n",
    "            print('A')\n",
    "        if g in range(80,88):\n",
    "            print('B')\n",
    "        if g in range(67,80):\n",
    "            print('C')\n",
    "        if g in range(60,68):\n",
    "            print('D')\n",
    "        elif g in range(0,60):\n",
    "            print('F')\n",
    "        choice = input(\"\\nDo you want to continue? (Y/N): \")\n",
    "        if choice.upper() == \"Y\":\n",
    "            break\n",
    "        if choice.upper() == \"N\":\n",
    "            print('goodbye')\n",
    "    \n",
    "break\n",
    "        \n",
    "        \n",
    "    "
   ]
  },
  {
   "cell_type": "code",
   "execution_count": null,
   "id": "00dc64e5",
   "metadata": {},
   "outputs": [],
   "source": [
    "\n",
    "    "
   ]
  }
 ],
 "metadata": {
  "kernelspec": {
   "display_name": "Python 3 (ipykernel)",
   "language": "python",
   "name": "python3"
  },
  "language_info": {
   "codemirror_mode": {
    "name": "ipython",
    "version": 3
   },
   "file_extension": ".py",
   "mimetype": "text/x-python",
   "name": "python",
   "nbconvert_exporter": "python",
   "pygments_lexer": "ipython3",
   "version": "3.9.13"
  }
 },
 "nbformat": 4,
 "nbformat_minor": 5
}
