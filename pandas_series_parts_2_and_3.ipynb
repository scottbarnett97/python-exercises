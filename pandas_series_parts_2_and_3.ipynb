{
 "cells": [
  {
   "cell_type": "code",
   "execution_count": 263,
   "id": "d5146a1b",
   "metadata": {},
   "outputs": [],
   "source": [
    "import matplotlib.pyplot as plt\n",
    "import pandas as pd\n",
    "import numpy as np"
   ]
  },
  {
   "cell_type": "code",
   "execution_count": 3,
   "id": "9a0295d9",
   "metadata": {},
   "outputs": [],
   "source": [
    "#my_series = pd.Series(my_list)\n",
    "fruits_list=[\"kiwi\", \"mango\", \"strawberry\", \"pineapple\", \"gala apple\", \"honeycrisp apple\", \"tomato\", \"watermelon\", \"honeydew\", \"kiwi\", \"kiwi\", \"kiwi\", \"mango\", \"blueberry\", \"blackberry\", \"gooseberry\", \"papaya\"]"
   ]
  },
  {
   "cell_type": "code",
   "execution_count": 4,
   "id": "f5cb6069",
   "metadata": {},
   "outputs": [],
   "source": [
    "fruits_series = pd.Series(fruits_list)"
   ]
  },
  {
   "cell_type": "code",
   "execution_count": 5,
   "id": "2c5295ef",
   "metadata": {},
   "outputs": [
    {
     "data": {
      "text/plain": [
       "0                 kiwi\n",
       "1                mango\n",
       "2           strawberry\n",
       "3            pineapple\n",
       "4           gala apple\n",
       "5     honeycrisp apple\n",
       "6               tomato\n",
       "7           watermelon\n",
       "8             honeydew\n",
       "9                 kiwi\n",
       "10                kiwi\n",
       "11                kiwi\n",
       "12               mango\n",
       "13           blueberry\n",
       "14          blackberry\n",
       "15          gooseberry\n",
       "16              papaya\n",
       "dtype: object"
      ]
     },
     "execution_count": 5,
     "metadata": {},
     "output_type": "execute_result"
    }
   ],
   "source": [
    "fruits_series"
   ]
  },
  {
   "cell_type": "markdown",
   "id": "1f75c328",
   "metadata": {},
   "source": [
    "# Exercises Part II"
   ]
  },
  {
   "cell_type": "markdown",
   "id": "50447b73",
   "metadata": {},
   "source": [
    "1. Capitalize all the string values in fruits."
   ]
  },
  {
   "cell_type": "code",
   "execution_count": 7,
   "id": "50adfbf0",
   "metadata": {},
   "outputs": [
    {
     "data": {
      "text/plain": [
       "0                 KIWI\n",
       "1                MANGO\n",
       "2           STRAWBERRY\n",
       "3            PINEAPPLE\n",
       "4           GALA APPLE\n",
       "5     HONEYCRISP APPLE\n",
       "6               TOMATO\n",
       "7           WATERMELON\n",
       "8             HONEYDEW\n",
       "9                 KIWI\n",
       "10                KIWI\n",
       "11                KIWI\n",
       "12               MANGO\n",
       "13           BLUEBERRY\n",
       "14          BLACKBERRY\n",
       "15          GOOSEBERRY\n",
       "16              PAPAYA\n",
       "dtype: object"
      ]
     },
     "execution_count": 7,
     "metadata": {},
     "output_type": "execute_result"
    }
   ],
   "source": [
    "fruits_series.str.upper()"
   ]
  },
  {
   "cell_type": "code",
   "execution_count": 19,
   "id": "77521e1c",
   "metadata": {},
   "outputs": [
    {
     "data": {
      "text/plain": [
       "0                 kiwi\n",
       "1                mango\n",
       "2           strawberry\n",
       "3            pineapple\n",
       "4           gala apple\n",
       "5     honeycrisp apple\n",
       "6               tomato\n",
       "7           watermelon\n",
       "8             honeydew\n",
       "9                 kiwi\n",
       "10                kiwi\n",
       "11                kiwi\n",
       "12               mango\n",
       "13           blueberry\n",
       "14          blackberry\n",
       "15          gooseberry\n",
       "16              papaya\n",
       "dtype: object"
      ]
     },
     "execution_count": 19,
     "metadata": {},
     "output_type": "execute_result"
    }
   ],
   "source": [
    "fruits_series"
   ]
  },
  {
   "cell_type": "markdown",
   "id": "e1a02fbf",
   "metadata": {},
   "source": [
    "2. Count the letter \"a\" in all the string values (use string vectorization)."
   ]
  },
  {
   "cell_type": "code",
   "execution_count": 106,
   "id": "7f84ef30",
   "metadata": {},
   "outputs": [
    {
     "name": "stdout",
     "output_type": "stream",
     "text": [
      "kiwi has 0\n",
      "mango has 1\n",
      "strawberry has 1\n",
      "pineapple has 1\n",
      "gala apple has 3\n",
      "honeycrisp apple has 1\n",
      "tomato has 1\n",
      "watermelon has 1\n",
      "honeydew has 0\n",
      "kiwi has 0\n",
      "kiwi has 0\n",
      "kiwi has 0\n",
      "mango has 1\n",
      "blueberry has 0\n",
      "blackberry has 1\n",
      "gooseberry has 0\n",
      "papaya has 3\n"
     ]
    },
    {
     "data": {
      "text/plain": [
       "14"
      ]
     },
     "execution_count": 106,
     "metadata": {},
     "output_type": "execute_result"
    }
   ],
   "source": [
    "count_list = [s.count(\"a\") for s in fruits_list]\n",
    "for i, s in enumerate(fruits_list):\n",
    "    print(f\"{s} has {count_list[i]}\")\n",
    "sum(count_list)\n"
   ]
  },
  {
   "cell_type": "code",
   "execution_count": 141,
   "id": "1678e9ad",
   "metadata": {},
   "outputs": [
    {
     "data": {
      "text/plain": [
       "14"
      ]
     },
     "execution_count": 141,
     "metadata": {},
     "output_type": "execute_result"
    }
   ],
   "source": [
    "def a_in(row):\n",
    "    a_count=0\n",
    "    for x in row:\n",
    "        if x == 'a':\n",
    "            a_count += 1\n",
    "    return a_count\n",
    "\n",
    "fruits_series.apply(a_in).sum()"
   ]
  },
  {
   "cell_type": "markdown",
   "id": "394a2a78",
   "metadata": {},
   "source": [
    "3. Output the number of vowels in each and every string value.\n"
   ]
  },
  {
   "cell_type": "code",
   "execution_count": null,
   "id": "2ceaa5bb",
   "metadata": {
    "scrolled": false
   },
   "outputs": [],
   "source": [
    "\n"
   ]
  },
  {
   "cell_type": "code",
   "execution_count": 148,
   "id": "e05f915a",
   "metadata": {},
   "outputs": [
    {
     "data": {
      "text/plain": [
       "0     2\n",
       "1     2\n",
       "2     2\n",
       "3     4\n",
       "4     4\n",
       "5     5\n",
       "6     3\n",
       "7     4\n",
       "8     3\n",
       "9     2\n",
       "10    2\n",
       "11    2\n",
       "12    2\n",
       "13    3\n",
       "14    2\n",
       "15    4\n",
       "16    3\n",
       "dtype: int64"
      ]
     },
     "execution_count": 148,
     "metadata": {},
     "output_type": "execute_result"
    }
   ],
   "source": [
    "def v_in(row):\n",
    "    v_count=0\n",
    "    for x in row:\n",
    "        if x in 'aeiou':\n",
    "            v_count += 1\n",
    "    return v_count\n",
    "\n",
    "fruits_series.apply(v_in)"
   ]
  },
  {
   "cell_type": "code",
   "execution_count": null,
   "id": "0d7c6193",
   "metadata": {},
   "outputs": [],
   "source": []
  },
  {
   "cell_type": "markdown",
   "id": "e343d5c9",
   "metadata": {},
   "source": [
    "4. Write the code to get the longest string value from fruits.\n"
   ]
  },
  {
   "cell_type": "code",
   "execution_count": 159,
   "id": "3606f7fb",
   "metadata": {},
   "outputs": [
    {
     "data": {
      "text/plain": [
       "5    honeycrisp apple\n",
       "dtype: object"
      ]
     },
     "execution_count": 159,
     "metadata": {},
     "output_type": "execute_result"
    }
   ],
   "source": [
    "#ls =[x]\n",
    "#for value in fruits_series:\n",
    "#    len(value)\n",
    "\n",
    "fruits_series[fruits_series.str.len() == fruits_series.str.len().max()]\n",
    "\n"
   ]
  },
  {
   "cell_type": "code",
   "execution_count": null,
   "id": "b2fae7a1",
   "metadata": {},
   "outputs": [],
   "source": [
    "\n"
   ]
  },
  {
   "cell_type": "markdown",
   "id": "a085dcd9",
   "metadata": {},
   "source": [
    "5. Write the code to get the string values with 5 or more letters in the name."
   ]
  },
  {
   "cell_type": "code",
   "execution_count": 166,
   "id": "4f864ed0",
   "metadata": {},
   "outputs": [
    {
     "data": {
      "text/plain": [
       "1                mango\n",
       "2           strawberry\n",
       "3            pineapple\n",
       "4           gala apple\n",
       "5     honeycrisp apple\n",
       "6               tomato\n",
       "7           watermelon\n",
       "8             honeydew\n",
       "12               mango\n",
       "13           blueberry\n",
       "14          blackberry\n",
       "15          gooseberry\n",
       "16              papaya\n",
       "dtype: object"
      ]
     },
     "execution_count": 166,
     "metadata": {},
     "output_type": "execute_result"
    }
   ],
   "source": [
    "fruits_series[fruits_series.str.len()>=5]"
   ]
  },
  {
   "cell_type": "code",
   "execution_count": null,
   "id": "87ce500b",
   "metadata": {},
   "outputs": [],
   "source": []
  },
  {
   "cell_type": "markdown",
   "id": "7958cf53",
   "metadata": {},
   "source": [
    "6. Find the fruit(s) containing the letter \"o\" two or more times.\n"
   ]
  },
  {
   "cell_type": "code",
   "execution_count": 171,
   "id": "03e322f7",
   "metadata": {},
   "outputs": [
    {
     "data": {
      "text/plain": [
       "6         tomato\n",
       "15    gooseberry\n",
       "dtype: object"
      ]
     },
     "execution_count": 171,
     "metadata": {},
     "output_type": "execute_result"
    }
   ],
   "source": [
    "def o_in(row):\n",
    "    o_count=0\n",
    "    for x in row:\n",
    "        if x == 'o':\n",
    "            o_count += 1\n",
    "    return o_count\n",
    "\n",
    "fruits_series[fruits_series.apply(o_in) >=2]"
   ]
  },
  {
   "cell_type": "markdown",
   "id": "7b484090",
   "metadata": {},
   "source": [
    "7. Write the code to get only the string values containing the substring \"berry\"."
   ]
  },
  {
   "cell_type": "code",
   "execution_count": 175,
   "id": "8474709e",
   "metadata": {},
   "outputs": [
    {
     "data": {
      "text/plain": [
       "2     strawberry\n",
       "13     blueberry\n",
       "14    blackberry\n",
       "15    gooseberry\n",
       "dtype: object"
      ]
     },
     "execution_count": 175,
     "metadata": {},
     "output_type": "execute_result"
    }
   ],
   "source": [
    "fruits_series[fruits_series.str.contains('berry')]\n",
    "\n",
    "#fruits_series.apply(berry_in) "
   ]
  },
  {
   "cell_type": "code",
   "execution_count": null,
   "id": "081ccbb5",
   "metadata": {},
   "outputs": [],
   "source": []
  },
  {
   "cell_type": "markdown",
   "id": "084fdca5",
   "metadata": {},
   "source": [
    "8. Write the code to get only the string values containing the substring \"apple\"."
   ]
  },
  {
   "cell_type": "code",
   "execution_count": 176,
   "id": "e50d2660",
   "metadata": {},
   "outputs": [
    {
     "data": {
      "text/plain": [
       "3           pineapple\n",
       "4          gala apple\n",
       "5    honeycrisp apple\n",
       "dtype: object"
      ]
     },
     "execution_count": 176,
     "metadata": {},
     "output_type": "execute_result"
    }
   ],
   "source": [
    "fruits_series[fruits_series.str.contains('apple')]"
   ]
  },
  {
   "cell_type": "code",
   "execution_count": null,
   "id": "1840d71d",
   "metadata": {},
   "outputs": [],
   "source": []
  },
  {
   "cell_type": "markdown",
   "id": "1b162ab0",
   "metadata": {},
   "source": [
    "9. Which string value contains the most vowels?"
   ]
  },
  {
   "cell_type": "code",
   "execution_count": 178,
   "id": "b50aae16",
   "metadata": {},
   "outputs": [
    {
     "data": {
      "text/plain": [
       "'honeycrisp apple'"
      ]
     },
     "execution_count": 178,
     "metadata": {},
     "output_type": "execute_result"
    }
   ],
   "source": [
    "def v_in(row):\n",
    "    v_count=0\n",
    "    for x in row:\n",
    "        if x in 'aeiou':\n",
    "            v_count += 1\n",
    "    return v_count\n",
    "fruits_series[fruits_series.apply(v_in).max()]"
   ]
  },
  {
   "cell_type": "markdown",
   "id": "e882d8bb",
   "metadata": {},
   "source": []
  },
  {
   "cell_type": "markdown",
   "id": "1fd8e650",
   "metadata": {},
   "source": [
    "# Exercises Part III\n",
    "Use pandas to create a Series named letters from the following string. The easiest way to make this string into a Pandas series is to use list to convert each individual letter into a single string on a basic Python list.\n",
    "\n",
    "'hnvidduckkqxwymbimkccexbkmqygkxoyndmcxnwqarhyffsjpsrabtjzsypmzadfavyrnndndvswreauxovncxtwzpwejilzjrmmbbgbyxvjtewqthafnbkqplarokkyydtubbmnexoypulzwfhqvckdpqtpoppzqrmcvhhpwgjwupgzhiofohawytlsiyecuproguy'"
   ]
  },
  {
   "cell_type": "code",
   "execution_count": 192,
   "id": "e243ee48",
   "metadata": {},
   "outputs": [],
   "source": [
    "letters_list=list('hnvidduckkqxwymbimkccexbkmqygkxoyndmcxnwqarhyffsjpsrabtjzsypmzadfavyrnndndvswreauxovncxtwzpwejilzjrmmbbgbyxvjtewqthafnbkqplarokkyydtubbmnexoypulzwfhqvckdpqtpoppzqrmcvhhpwgjwupgzhiofohawytlsiyecuproguy')"
   ]
  },
  {
   "cell_type": "code",
   "execution_count": 200,
   "id": "6b7c3a5c",
   "metadata": {},
   "outputs": [],
   "source": [
    "lseries = pd.Series(letters_list)"
   ]
  },
  {
   "cell_type": "code",
   "execution_count": 201,
   "id": "3e64bc40",
   "metadata": {},
   "outputs": [
    {
     "name": "stdout",
     "output_type": "stream",
     "text": [
      "0      h\n",
      "1      n\n",
      "2      v\n",
      "3      i\n",
      "4      d\n",
      "      ..\n",
      "195    r\n",
      "196    o\n",
      "197    g\n",
      "198    u\n",
      "199    y\n",
      "Length: 200, dtype: object\n"
     ]
    }
   ],
   "source": [
    "print(lseries)\n"
   ]
  },
  {
   "cell_type": "code",
   "execution_count": null,
   "id": "d537eea1",
   "metadata": {},
   "outputs": [],
   "source": [
    "# 1. Which letter occurs the most frequently in the letters Series?"
   ]
  },
  {
   "cell_type": "code",
   "execution_count": 203,
   "id": "e3c21612",
   "metadata": {},
   "outputs": [
    {
     "data": {
      "text/plain": [
       "'y'"
      ]
     },
     "execution_count": 203,
     "metadata": {},
     "output_type": "execute_result"
    }
   ],
   "source": [
    "lseries[lseries.value_counts().max()]"
   ]
  },
  {
   "cell_type": "code",
   "execution_count": 204,
   "id": "4d57af07",
   "metadata": {},
   "outputs": [],
   "source": [
    "# 2. Which letter occurs the Least frequently?"
   ]
  },
  {
   "cell_type": "code",
   "execution_count": 205,
   "id": "78025732",
   "metadata": {},
   "outputs": [
    {
     "data": {
      "text/plain": [
       "'d'"
      ]
     },
     "execution_count": 205,
     "metadata": {},
     "output_type": "execute_result"
    }
   ],
   "source": [
    "lseries[lseries.value_counts().min()]"
   ]
  },
  {
   "cell_type": "code",
   "execution_count": null,
   "id": "0ddf7b0e",
   "metadata": {},
   "outputs": [],
   "source": [
    "# 3. How many vowels are in the Series?"
   ]
  },
  {
   "cell_type": "code",
   "execution_count": 208,
   "id": "3b6b8b59",
   "metadata": {},
   "outputs": [
    {
     "data": {
      "text/plain": [
       "34"
      ]
     },
     "execution_count": 208,
     "metadata": {},
     "output_type": "execute_result"
    }
   ],
   "source": [
    "# create funtion to sort out vowels\n",
    "def isvowel(row):\n",
    "    vowel_count=0\n",
    "    for x in row:\n",
    "        if x in  'aeiou':\n",
    "            vowel_count += 1\n",
    "    return vowel_count\n",
    "#apply function to series and count\n",
    "lseries.apply(isvowel).sum()"
   ]
  },
  {
   "cell_type": "code",
   "execution_count": null,
   "id": "fb0049af",
   "metadata": {},
   "outputs": [],
   "source": [
    "# 4. How many consonants are in the Series?"
   ]
  },
  {
   "cell_type": "code",
   "execution_count": 210,
   "id": "f0e370eb",
   "metadata": {},
   "outputs": [
    {
     "data": {
      "text/plain": [
       "166"
      ]
     },
     "execution_count": 210,
     "metadata": {},
     "output_type": "execute_result"
    }
   ],
   "source": [
    "# make function to sort out constanants\n",
    "def iscons(row):\n",
    "    cons_count=0\n",
    "    for x in row:\n",
    "        if x not in  'aeiou':\n",
    "            cons_count += 1\n",
    "    return cons_count\n",
    "#apply function to series and count\n",
    "lseries.apply(iscons).sum()"
   ]
  },
  {
   "cell_type": "code",
   "execution_count": null,
   "id": "d0dff0af",
   "metadata": {},
   "outputs": [],
   "source": [
    "# 5. Create a Series that has all of the same letters but uppercased."
   ]
  },
  {
   "cell_type": "code",
   "execution_count": 214,
   "id": "f97c1dbb",
   "metadata": {},
   "outputs": [
    {
     "data": {
      "text/plain": [
       "0      H\n",
       "1      N\n",
       "2      V\n",
       "3      I\n",
       "4      D\n",
       "      ..\n",
       "195    R\n",
       "196    O\n",
       "197    G\n",
       "198    U\n",
       "199    Y\n",
       "Length: 200, dtype: object"
      ]
     },
     "execution_count": 214,
     "metadata": {},
     "output_type": "execute_result"
    }
   ],
   "source": [
    "lseries.str.upper()"
   ]
  },
  {
   "cell_type": "code",
   "execution_count": 215,
   "id": "0763e0a6",
   "metadata": {},
   "outputs": [],
   "source": [
    "# 6.Create a bar plot of the frequencies of the 6 most commonly occuring letters."
   ]
  },
  {
   "cell_type": "code",
   "execution_count": 225,
   "id": "4b782373",
   "metadata": {},
   "outputs": [
    {
     "data": {
      "text/plain": [
       "[Text(0.5, 0, 'Letter'), Text(0, 0.5, 'Frequency')]"
      ]
     },
     "execution_count": 225,
     "metadata": {},
     "output_type": "execute_result"
    },
    {
     "data": {
      "image/png": "[encoded data removed]",
      "text/plain": [
       "<Figure size 640x480 with 1 Axes>"
      ]
     },
     "metadata": {},
     "output_type": "display_data"
    }
   ],
   "source": [
    "lseries.value_counts().head(6).plot.bar(title= 'frequeny of 6 most common letters').set(xlabel='Letter',ylabel='Frequency')"
   ]
  },
  {
   "cell_type": "markdown",
   "id": "64fa6e85",
   "metadata": {},
   "source": [
    "Use pandas to create a Series named numbers from the following list:\n",
    "['$796,459.41', '$278.60', '$482,571.67', '$4,503,915.98', '$2,121,418.3', '$1,260,813.3', '$87,231.01', '$1,509,175.45', '$4,138,548.00', '$2,848,913.80', '$594,715.39', '$4,789,988.17', '$4,513,644.5', '$3,191,059.97', '$1,758,712.24', '$4,338,283.54', '$4,738,303.38', '$2,791,759.67', '$769,681.94', '$452,650.23']\n",
    "\n"
   ]
  },
  {
   "cell_type": "code",
   "execution_count": 268,
   "id": "a7538a4c",
   "metadata": {},
   "outputs": [
    {
     "name": "stdout",
     "output_type": "stream",
     "text": [
      "['$796,459.41', '$278.60', '$482,571.67', '$4,503,915.98', '$2,121,418.3', '$1,260,813.3', '$87,231.01', '$1,509,175.45', '$4,138,548.00', '$2,848,913.80', '$594,715.39', '$4,789,988.17', '$4,513,644.5', '$3,191,059.97', '$1,758,712.24', '$4,338,283.54', '$4,738,303.38', '$2,791,759.67', '$769,681.94', '$452,650.23']\n"
     ]
    }
   ],
   "source": [
    "list2 =['$796,459.41', '$278.60', '$482,571.67', '$4,503,915.98', '$2,121,418.3', '$1,260,813.3', '$87,231.01', '$1,509,175.45', '$4,138,548.00', '$2,848,913.80', '$594,715.39', '$4,789,988.17', '$4,513,644.5', '$3,191,059.97', '$1,758,712.24', '$4,338,283.54', '$4,738,303.38', '$2,791,759.67', '$769,681.94', '$452,650.23']\n",
    "\n",
    "print(list2)"
   ]
  },
  {
   "cell_type": "code",
   "execution_count": 269,
   "id": "c68b916b",
   "metadata": {},
   "outputs": [],
   "source": [
    "l2series=pd.Series(list2)"
   ]
  },
  {
   "cell_type": "code",
   "execution_count": 270,
   "id": "40af1838",
   "metadata": {},
   "outputs": [
    {
     "name": "stdout",
     "output_type": "stream",
     "text": [
      "0       $796,459.41\n",
      "1           $278.60\n",
      "2       $482,571.67\n",
      "3     $4,503,915.98\n",
      "4      $2,121,418.3\n",
      "5      $1,260,813.3\n",
      "6        $87,231.01\n",
      "7     $1,509,175.45\n",
      "8     $4,138,548.00\n",
      "9     $2,848,913.80\n",
      "10      $594,715.39\n",
      "11    $4,789,988.17\n",
      "12     $4,513,644.5\n",
      "13    $3,191,059.97\n",
      "14    $1,758,712.24\n",
      "15    $4,338,283.54\n",
      "16    $4,738,303.38\n",
      "17    $2,791,759.67\n",
      "18      $769,681.94\n",
      "19      $452,650.23\n",
      "dtype: object\n"
     ]
    }
   ],
   "source": [
    "print(l2series)"
   ]
  },
  {
   "cell_type": "code",
   "execution_count": 242,
   "id": "9a1e693c",
   "metadata": {},
   "outputs": [],
   "source": [
    "# 1. What is the data type of the numbers Series?"
   ]
  },
  {
   "cell_type": "code",
   "execution_count": 271,
   "id": "2b9efc4d",
   "metadata": {},
   "outputs": [
    {
     "data": {
      "text/plain": [
       "pandas.core.series.Series"
      ]
     },
     "execution_count": 271,
     "metadata": {},
     "output_type": "execute_result"
    }
   ],
   "source": [
    "type(l2series)"
   ]
  },
  {
   "cell_type": "code",
   "execution_count": null,
   "id": "f15be05e",
   "metadata": {},
   "outputs": [],
   "source": [
    "# 2. How many elements are in the number Series?"
   ]
  },
  {
   "cell_type": "code",
   "execution_count": 272,
   "id": "a3e4736c",
   "metadata": {},
   "outputs": [
    {
     "data": {
      "text/plain": [
       "count              20\n",
       "unique             20\n",
       "top       $796,459.41\n",
       "freq                1\n",
       "dtype: object"
      ]
     },
     "execution_count": 272,
     "metadata": {},
     "output_type": "execute_result"
    }
   ],
   "source": [
    "l2series.describe()\n",
    "\n",
    "#20"
   ]
  },
  {
   "cell_type": "code",
   "execution_count": null,
   "id": "4dc14c51",
   "metadata": {},
   "outputs": [],
   "source": [
    "# 3. Perform the necessary manipulations by accessing Series attributes and methods to convert the numbers Series to a numeric data type.\n",
    "\n"
   ]
  },
  {
   "cell_type": "code",
   "execution_count": 290,
   "id": "296e1ada",
   "metadata": {},
   "outputs": [
    {
     "name": "stderr",
     "output_type": "stream",
     "text": [
      "/var/folders/2s/5h_f818x4h11v8k6kc_6g1700000gn/T/ipykernel_18092/3917393109.py:1: FutureWarning: The default value of regex will change from True to False in a future version. In addition, single character regular expressions will *not* be treated as literal strings when regex=True.\n",
      "  l2series.str.replace('$','').str.replace(',','').astype(float)\n"
     ]
    },
    {
     "data": {
      "text/plain": [
       "0      796459.41\n",
       "1         278.60\n",
       "2      482571.67\n",
       "3     4503915.98\n",
       "4     2121418.30\n",
       "5     1260813.30\n",
       "6       87231.01\n",
       "7     1509175.45\n",
       "8     4138548.00\n",
       "9     2848913.80\n",
       "10     594715.39\n",
       "11    4789988.17\n",
       "12    4513644.50\n",
       "13    3191059.97\n",
       "14    1758712.24\n",
       "15    4338283.54\n",
       "16    4738303.38\n",
       "17    2791759.67\n",
       "18     769681.94\n",
       "19     452650.23\n",
       "dtype: float64"
      ]
     },
     "execution_count": 290,
     "metadata": {},
     "output_type": "execute_result"
    }
   ],
   "source": [
    "l2series.str.replace('$','').str.replace(',','').astype(float)"
   ]
  },
  {
   "cell_type": "code",
   "execution_count": 291,
   "id": "719c9438",
   "metadata": {},
   "outputs": [
    {
     "name": "stderr",
     "output_type": "stream",
     "text": [
      "/var/folders/2s/5h_f818x4h11v8k6kc_6g1700000gn/T/ipykernel_18092/1955486779.py:3: FutureWarning: The default value of regex will change from True to False in a future version. In addition, single character regular expressions will *not* be treated as literal strings when regex=True.\n",
      "  l2series.str.replace('$','').str.replace(',','').astype(float).max()\n"
     ]
    },
    {
     "data": {
      "text/plain": [
       "4789988.17"
      ]
     },
     "execution_count": 291,
     "metadata": {},
     "output_type": "execute_result"
    }
   ],
   "source": [
    "# 4. Run the code to discover the maximum value from the Series.\n",
    "\n",
    "l2series.str.replace('$','').str.replace(',','').astype(float).max()"
   ]
  },
  {
   "cell_type": "code",
   "execution_count": 293,
   "id": "69573d0d",
   "metadata": {},
   "outputs": [
    {
     "name": "stderr",
     "output_type": "stream",
     "text": [
      "/var/folders/2s/5h_f818x4h11v8k6kc_6g1700000gn/T/ipykernel_18092/1979422863.py:3: FutureWarning: The default value of regex will change from True to False in a future version. In addition, single character regular expressions will *not* be treated as literal strings when regex=True.\n",
      "  l2series.str.replace('$','').str.replace(',','').astype(float).min()\n"
     ]
    },
    {
     "data": {
      "text/plain": [
       "278.6"
      ]
     },
     "execution_count": 293,
     "metadata": {},
     "output_type": "execute_result"
    }
   ],
   "source": [
    "# 5. Run the code to discover the minimum value from the Series.\n",
    "\n",
    "l2series.str.replace('$','').str.replace(',','').astype(float).min()"
   ]
  },
  {
   "cell_type": "code",
   "execution_count": 298,
   "id": "aa5df21e",
   "metadata": {},
   "outputs": [
    {
     "name": "stderr",
     "output_type": "stream",
     "text": [
      "/var/folders/2s/5h_f818x4h11v8k6kc_6g1700000gn/T/ipykernel_18092/34974281.py:3: FutureWarning: The default value of regex will change from True to False in a future version. In addition, single character regular expressions will *not* be treated as literal strings when regex=True.\n",
      "  l2series.str.replace('$','').str.replace(',','').astype(float).index\n"
     ]
    },
    {
     "data": {
      "text/plain": [
       "RangeIndex(start=0, stop=20, step=1)"
      ]
     },
     "execution_count": 298,
     "metadata": {},
     "output_type": "execute_result"
    }
   ],
   "source": [
    "# 6. What is the range of the values in the Series?\n",
    "\n",
    "l2series.str.replace('$','').str.replace(',','').astype(float).index"
   ]
  },
  {
   "cell_type": "code",
   "execution_count": 306,
   "id": "9d24fde1",
   "metadata": {},
   "outputs": [
    {
     "name": "stdout",
     "output_type": "stream",
     "text": [
      "(-4511.11, 1197705.993]       7\n",
      "(3592560.778, 4789988.17]     6\n",
      "(1197705.993, 2395133.385]    4\n",
      "(2395133.385, 3592560.778]    3\n",
      "dtype: int64\n"
     ]
    },
    {
     "name": "stderr",
     "output_type": "stream",
     "text": [
      "/var/folders/2s/5h_f818x4h11v8k6kc_6g1700000gn/T/ipykernel_18092/638710850.py:3: FutureWarning: The default value of regex will change from True to False in a future version. In addition, single character regular expressions will *not* be treated as literal strings when regex=True.\n",
      "  numbers= l2series.str.replace('$','').str.replace(',','').astype(float)\n"
     ]
    }
   ],
   "source": [
    "# 7. Bin the data into 4 equally sized intervals or bins and output how many values fall into each bin.\n",
    "    #first set to a value\n",
    "numbers= l2series.str.replace('$','').str.replace(',','').astype(float)\n",
    "\n",
    "# split into the bins\n",
    "bins = pd.cut(numbers, bins=4)\n",
    "# count how many are in the bins\n",
    "counts = bins.value_counts()\n",
    "print(counts)\n"
   ]
  },
  {
   "cell_type": "code",
   "execution_count": 307,
   "id": "76538230",
   "metadata": {},
   "outputs": [
    {
     "data": {
      "image/png": "[encoded data removed]",
      "text/plain": [
       "<Figure size 640x480 with 1 Axes>"
      ]
     },
     "metadata": {},
     "output_type": "display_data"
    }
   ],
   "source": [
    "# 8. Plot the binned data in a meaningful way. Be sure to include a title and axis labels.\n",
    "plt.bar(counts.index.astype(str), counts.values)\n",
    "plt.xlabel('Bins')\n",
    "plt.ylabel('Count')\n",
    "plt.show()\n",
    "\n"
   ]
  },
  {
   "cell_type": "code",
   "execution_count": 310,
   "id": "4b836703",
   "metadata": {},
   "outputs": [
    {
     "name": "stdout",
     "output_type": "stream",
     "text": [
      "0     60\n",
      "1     86\n",
      "2     75\n",
      "3     62\n",
      "4     93\n",
      "5     71\n",
      "6     60\n",
      "7     83\n",
      "8     95\n",
      "9     78\n",
      "10    65\n",
      "11    72\n",
      "12    69\n",
      "13    81\n",
      "14    96\n",
      "15    80\n",
      "16    85\n",
      "17    92\n",
      "18    82\n",
      "19    78\n",
      "dtype: int64\n"
     ]
    }
   ],
   "source": [
    "# Use pandas to create a Series named exam_scores from the following list:\n",
    "[60, 86, 75, 62, 93, 71, 60, 83, 95, 78, 65, 72, 69, 81, 96, 80, 85, 92, 82, 78]\n",
    "\n",
    "numbers_list = [60, 86, 75, 62, 93, 71, 60, 83, 95, 78, 65, 72, 69, 81, 96, 80, 85, 92, 82, 78]\n",
    "\n",
    "exam_scores = pd.Series(numbers_list)\n",
    "bins =\n"
   ]
  },
  {
   "cell_type": "code",
   "execution_count": 319,
   "id": "66536138",
   "metadata": {},
   "outputs": [
    {
     "data": {
      "text/plain": [
       "20"
      ]
     },
     "execution_count": 319,
     "metadata": {},
     "output_type": "execute_result"
    }
   ],
   "source": [
    "# How many elements are in the exam_scores Series?\n",
    "\n",
    "\n",
    "exam_scores.count()"
   ]
  },
  {
   "cell_type": "code",
   "execution_count": 320,
   "id": "3c5e429b",
   "metadata": {},
   "outputs": [
    {
     "data": {
      "text/plain": [
       "count    20.000000\n",
       "mean     78.150000\n",
       "std      11.352139\n",
       "min      60.000000\n",
       "25%      70.500000\n",
       "50%      79.000000\n",
       "75%      85.250000\n",
       "max      96.000000\n",
       "dtype: float64"
      ]
     },
     "execution_count": 320,
     "metadata": {},
     "output_type": "execute_result"
    }
   ],
   "source": [
    "# Run the code to discover the minimum, the maximum, the mean, and the median scores for the exam_scores Series.\n",
    "\n",
    "exam_scores.describe()"
   ]
  },
  {
   "cell_type": "code",
   "execution_count": 329,
   "id": "31709715",
   "metadata": {},
   "outputs": [
    {
     "name": "stdout",
     "output_type": "stream",
     "text": [
      "(78.0, 87.0]      6\n",
      "(59.964, 69.0]    5\n",
      "(69.0, 78.0]      5\n",
      "(87.0, 96.0]      4\n",
      "dtype: int64\n"
     ]
    }
   ],
   "source": [
    "# Plot the Series in a meaningful way and make sure your chart has a title and axis labels.\n",
    "\n",
    "bins=pd.cut(numbers, bins=4)\n",
    "print(bins.value_counts())"
   ]
  },
  {
   "cell_type": "code",
   "execution_count": 336,
   "id": "0d8c9898",
   "metadata": {},
   "outputs": [
    {
     "data": {
      "text/plain": [
       "<AxesSubplot:title={'center':'Most common exam score ranges'}, xlabel=' Score Range', ylabel='# Exams in Range'>"
      ]
     },
     "execution_count": 336,
     "metadata": {},
     "output_type": "execute_result"
    },
    {
     "data": {
      "image/png": "[encoded data removed]",
      "text/plain": [
       "<Figure size 640x480 with 1 Axes>"
      ]
     },
     "metadata": {},
     "output_type": "display_data"
    }
   ],
   "source": [
    "bins.value_counts().plot.bar(title='Most common exam score ranges', ylabel=\"# Exams in Range\", xlabel=' Score Range')"
   ]
  },
  {
   "cell_type": "code",
   "execution_count": 337,
   "id": "fbf62774",
   "metadata": {},
   "outputs": [
    {
     "data": {
      "text/plain": [
       "count    20.000000\n",
       "mean     78.150000\n",
       "std      11.352139\n",
       "min      60.000000\n",
       "25%      70.500000\n",
       "50%      79.000000\n",
       "75%      85.250000\n",
       "max      96.000000\n",
       "dtype: float64"
      ]
     },
     "execution_count": 337,
     "metadata": {},
     "output_type": "execute_result"
    }
   ],
   "source": [
    "exam_scores.describe()"
   ]
  },
  {
   "cell_type": "code",
   "execution_count": 346,
   "id": "d2ae85be",
   "metadata": {},
   "outputs": [
    {
     "data": {
      "text/plain": [
       "0      64\n",
       "1      90\n",
       "2      79\n",
       "3      66\n",
       "4      97\n",
       "5      75\n",
       "6      64\n",
       "7      87\n",
       "8      99\n",
       "9      82\n",
       "10     69\n",
       "11     76\n",
       "12     73\n",
       "13     85\n",
       "14    100\n",
       "15     84\n",
       "16     89\n",
       "17     96\n",
       "18     86\n",
       "19     82\n",
       "dtype: int64"
      ]
     },
     "execution_count": 346,
     "metadata": {},
     "output_type": "execute_result"
    }
   ],
   "source": [
    "# Write the code necessary to implement a curve for your exam_grades Series and save this as curved_grades. Add the necessary points to the highest grade to make it 100, and add the same number of points to every other score in the Series as well.\n",
    "\n",
    "\n",
    "numbers_list = [60, 86, 75, 62, 93, 71, 60, 83, 95, 78, 65, 72, 69, 81, 96, 80, 85, 92, 82, 78]\n",
    "\n",
    "exam_scores = pd.Series(numbers_list)\n",
    "\n",
    "exam_scores+4"
   ]
  },
  {
   "cell_type": "code",
   "execution_count": 350,
   "id": "7705c677",
   "metadata": {},
   "outputs": [
    {
     "name": "stdout",
     "output_type": "stream",
     "text": [
      "0      64\n",
      "1      90\n",
      "2      79\n",
      "3      66\n",
      "4      97\n",
      "5      75\n",
      "6      64\n",
      "7      87\n",
      "8      99\n",
      "9      82\n",
      "10     69\n",
      "11     76\n",
      "12     73\n",
      "13     85\n",
      "14    100\n",
      "15     84\n",
      "16     89\n",
      "17     96\n",
      "18     86\n",
      "19     82\n",
      "dtype: int64\n"
     ]
    }
   ],
   "source": [
    "# or\n",
    "numbers_list = [60, 86, 75, 62, 93, 71, 60, 83, 95, 78, 65, 72, 69, 81, 96, 80, 85, 92, 82, 78]\n",
    "\n",
    "exam_scores = pd.Series(numbers_list)\n",
    "#find difference\n",
    "diff = 100 - exam_scores.max()\n",
    "# make the curve\n",
    "curved_grades = exam_scores + diff\n",
    "print(curved_grades)\n"
   ]
  },
  {
   "cell_type": "code",
   "execution_count": 351,
   "id": "a4ea2c51",
   "metadata": {},
   "outputs": [
    {
     "name": "stdout",
     "output_type": "stream",
     "text": [
      "0     D\n",
      "1     A\n",
      "2     C\n",
      "3     D\n",
      "4     A\n",
      "5     C\n",
      "6     D\n",
      "7     B\n",
      "8     A\n",
      "9     B\n",
      "10    D\n",
      "11    C\n",
      "12    C\n",
      "13    B\n",
      "14    A\n",
      "15    B\n",
      "16    B\n",
      "17    A\n",
      "18    B\n",
      "19    B\n",
      "dtype: category\n",
      "Categories (5, object): ['F' < 'D' < 'C' < 'B' < 'A']\n"
     ]
    }
   ],
   "source": [
    "# Use a method to convert each of the numeric values in the curved_grades Series into a categorical value of letter grades. For example, 86 should be a 'B' and 95 should be an 'A'. Save this as a Series named letter_grades.\n",
    "# Define the bins and corresponding labels for the letter grades\n",
    "bins = [0, 59, 69, 79, 89, 100]\n",
    "labels = ['F', 'D', 'C', 'B', 'A']\n",
    "# Use pd.cut() to convert the curved_grades Series into letter grades\n",
    "letter_grades = pd.cut(curved_grades, bins=bins, labels=labels)\n",
    "\n",
    "# Print the letter grades\n",
    "print(letter_grades)\n"
   ]
  },
  {
   "cell_type": "code",
   "execution_count": 355,
   "id": "f8b456a3",
   "metadata": {},
   "outputs": [
    {
     "data": {
      "text/plain": [
       "<AxesSubplot:title={'center':'Curved Grades by Letter'}, xlabel='letter grade', ylabel='# in grade range'>"
      ]
     },
     "execution_count": 355,
     "metadata": {},
     "output_type": "execute_result"
    },
    {
     "data": {
      "image/png": "[encoded data removed]",
      "text/plain": [
       "<Figure size 640x480 with 1 Axes>"
      ]
     },
     "metadata": {},
     "output_type": "display_data"
    }
   ],
   "source": [
    "letter_grades.value_counts().plot.bar(title= 'Curved Grades by Letter',xlabel='letter grade',ylabel='# in grade range')"
   ]
  },
  {
   "cell_type": "code",
   "execution_count": null,
   "id": "18a964fc",
   "metadata": {},
   "outputs": [],
   "source": []
  }
 ],
 "metadata": {
  "kernelspec": {
   "display_name": "Python 3 (ipykernel)",
   "language": "python",
   "name": "python3"
  },
  "language_info": {
   "codemirror_mode": {
    "name": "ipython",
    "version": 3
   },
   "file_extension": ".py",
   "mimetype": "text/x-python",
   "name": "python",
   "nbconvert_exporter": "python",
   "pygments_lexer": "ipython3",
   "version": "3.9.13"
  }
 },
 "nbformat": 4,
 "nbformat_minor": 5
}
