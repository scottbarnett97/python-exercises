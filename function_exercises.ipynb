{
 "cells": [
  {
   "cell_type": "markdown",
   "id": "30561bbf",
   "metadata": {},
   "source": [
    "#1. Define a function named is_two. It should accept one input and return True if the passed input is either the number or the string 2, False otherwise."
   ]
  },
  {
   "cell_type": "code",
   "execution_count": 122,
   "id": "2283730b",
   "metadata": {},
   "outputs": [],
   "source": [
    "def is_two(n):\n",
    "    if n ==2 or n == '2':\n",
    "        return True\n",
    "    else:\n",
    "        return False"
   ]
  },
  {
   "cell_type": "code",
   "execution_count": 123,
   "id": "d930ac0d",
   "metadata": {},
   "outputs": [
    {
     "data": {
      "text/plain": [
       "True"
      ]
     },
     "execution_count": 123,
     "metadata": {},
     "output_type": "execute_result"
    }
   ],
   "source": [
    "is_two(2)"
   ]
  },
  {
   "cell_type": "code",
   "execution_count": 128,
   "id": "cb8ae5fa",
   "metadata": {},
   "outputs": [
    {
     "data": {
      "text/plain": [
       "True"
      ]
     },
     "execution_count": 128,
     "metadata": {},
     "output_type": "execute_result"
    }
   ],
   "source": [
    "def is_two(string):\n",
    "    return string == 2 or string =='2'\n",
    "\n",
    "\n",
    "is_two(2)"
   ]
  },
  {
   "cell_type": "markdown",
   "id": "1f1b269a",
   "metadata": {},
   "source": [
    "#2.Define a function named is_vowel. It should return True if the passed string is a vowel, False otherwise."
   ]
  },
  {
   "cell_type": "code",
   "execution_count": 136,
   "id": "8ece2f72",
   "metadata": {},
   "outputs": [],
   "source": [
    "def is_vowel(char):\n",
    "    char = char.lower()\n",
    "    if  char.isdigit():\n",
    "        print('must be a letter')\n",
    "    elif char in list('aeiou'):\n",
    "        return('True')\n",
    "    else:\n",
    "        return('False')"
   ]
  },
  {
   "cell_type": "code",
   "execution_count": 132,
   "id": "707cee25",
   "metadata": {},
   "outputs": [
    {
     "data": {
      "text/plain": [
       "'False'"
      ]
     },
     "execution_count": 132,
     "metadata": {},
     "output_type": "execute_result"
    }
   ],
   "source": [
    "is_vowel('a')"
   ]
  },
  {
   "cell_type": "markdown",
   "id": "77fac021",
   "metadata": {},
   "source": []
  },
  {
   "cell_type": "code",
   "execution_count": null,
   "id": "789dd592",
   "metadata": {},
   "outputs": [],
   "source": []
  },
  {
   "cell_type": "markdown",
   "id": "d6134b74",
   "metadata": {},
   "source": [
    "#3.Define a function named is_consonant. It should return True if the passed string is a consonant, False otherwise. Use your is_vowel function to accomplish this.\n"
   ]
  },
  {
   "cell_type": "code",
   "execution_count": 162,
   "id": "71c6c6b9",
   "metadata": {},
   "outputs": [],
   "source": [
    "def is_constanant(char):\n",
    "    char = char.lower()\n",
    "    if  char.isdigit():\n",
    "        print('must be a letter')\n",
    "    elif not is_vowel(char):\n",
    "        return True\n",
    "    else:\n",
    "        return False\n",
    "            "
   ]
  },
  {
   "cell_type": "code",
   "execution_count": 163,
   "id": "8755417e",
   "metadata": {},
   "outputs": [
    {
     "data": {
      "text/plain": [
       "False"
      ]
     },
     "execution_count": 163,
     "metadata": {},
     "output_type": "execute_result"
    }
   ],
   "source": [
    "is_constanant('b')"
   ]
  },
  {
   "cell_type": "markdown",
   "id": "97ee7500",
   "metadata": {},
   "source": [
    "#4.Define a function that accepts a string that is a word. The function should capitalize the first letter of the word if the word starts with a consonant.\n"
   ]
  },
  {
   "cell_type": "code",
   "execution_count": 67,
   "id": "76ba4751",
   "metadata": {},
   "outputs": [],
   "source": [
    "def cap_first(string):\n",
    "    string = string.lower()\n",
    "    if string[0] not in 'aeiou':\n",
    "        return(string.capitalize())\n",
    "    else:\n",
    "        return(string)"
   ]
  },
  {
   "cell_type": "code",
   "execution_count": 69,
   "id": "7880b2ba",
   "metadata": {},
   "outputs": [
    {
     "data": {
      "text/plain": [
       "'one'"
      ]
     },
     "execution_count": 69,
     "metadata": {},
     "output_type": "execute_result"
    }
   ],
   "source": [
    "cap_first('one')"
   ]
  },
  {
   "cell_type": "code",
   "execution_count": null,
   "id": "ee52423a",
   "metadata": {},
   "outputs": [],
   "source": []
  },
  {
   "cell_type": "markdown",
   "id": "ee01f73b",
   "metadata": {},
   "source": [
    "#5.Define a function named calculate_tip. It should accept a tip percentage (a number between 0 and 1) and the bill total, and return the amount to tip.\n"
   ]
  },
  {
   "cell_type": "code",
   "execution_count": 83,
   "id": "4b4a06a6",
   "metadata": {},
   "outputs": [],
   "source": [
    "def calculate_tip (bill,tip):\n",
    "    return(float(bill * tip))"
   ]
  },
  {
   "cell_type": "code",
   "execution_count": 84,
   "id": "7368c854",
   "metadata": {},
   "outputs": [
    {
     "data": {
      "text/plain": [
       "15.0"
      ]
     },
     "execution_count": 84,
     "metadata": {},
     "output_type": "execute_result"
    }
   ],
   "source": [
    "calculate_tip(100,.15)"
   ]
  },
  {
   "cell_type": "code",
   "execution_count": null,
   "id": "fc3cc20a",
   "metadata": {},
   "outputs": [],
   "source": []
  },
  {
   "cell_type": "code",
   "execution_count": null,
   "id": "82b7552c",
   "metadata": {},
   "outputs": [],
   "source": []
  },
  {
   "cell_type": "markdown",
   "id": "b2c748f3",
   "metadata": {},
   "source": [
    "#6.Define a function named apply_discount. It should accept a original price, and a discount percentage, and return the price after the discount is applied.\n"
   ]
  },
  {
   "cell_type": "code",
   "execution_count": 166,
   "id": "855e45cf",
   "metadata": {},
   "outputs": [],
   "source": [
    "def apply_discount(price,discount):\n",
    "    return(float(price-(price*discount)))"
   ]
  },
  {
   "cell_type": "code",
   "execution_count": 167,
   "id": "1de78384",
   "metadata": {},
   "outputs": [
    {
     "data": {
      "text/plain": [
       "170.0"
      ]
     },
     "execution_count": 167,
     "metadata": {},
     "output_type": "execute_result"
    }
   ],
   "source": [
    "apply_discount(200,.15)"
   ]
  },
  {
   "cell_type": "markdown",
   "id": "27654516",
   "metadata": {},
   "source": [
    "#7.Define a function named handle_commas. It should accept a string that is a number that contains commas in it as input, and return a number as output.\n"
   ]
  },
  {
   "cell_type": "code",
   "execution_count": 104,
   "id": "a9cba940",
   "metadata": {},
   "outputs": [],
   "source": [
    "def handle_commas(string):\n",
    "    return(int(string.replace(',',\"\")))\n",
    "    \n"
   ]
  },
  {
   "cell_type": "code",
   "execution_count": 105,
   "id": "58bef0ea",
   "metadata": {},
   "outputs": [
    {
     "data": {
      "text/plain": [
       "1999"
      ]
     },
     "execution_count": 105,
     "metadata": {},
     "output_type": "execute_result"
    }
   ],
   "source": [
    "handle_commas('19,99')"
   ]
  },
  {
   "cell_type": "markdown",
   "id": "f355ca4e",
   "metadata": {},
   "source": [
    "#8.Define a function named get_letter_grade. It should accept a number and return the letter grade associated with that number (A-F).\n"
   ]
  },
  {
   "cell_type": "code",
   "execution_count": 111,
   "id": "5fb60b3a",
   "metadata": {},
   "outputs": [],
   "source": [
    "def get_letter_grade(grade):\n",
    "    if grade >= 88:\n",
    "        return('A')\n",
    "    elif grade >= 80:\n",
    "        return('B')\n",
    "    elif grade >=67:\n",
    "        return('C')\n",
    "    elif grade >= 60:\n",
    "        return('D')\n",
    "    else:\n",
    "        return('F')"
   ]
  },
  {
   "cell_type": "code",
   "execution_count": 112,
   "id": "5d90a7c7",
   "metadata": {},
   "outputs": [
    {
     "data": {
      "text/plain": [
       "'A'"
      ]
     },
     "execution_count": 112,
     "metadata": {},
     "output_type": "execute_result"
    }
   ],
   "source": [
    "get_letter_grade(89)"
   ]
  },
  {
   "cell_type": "markdown",
   "id": "e2ad390b",
   "metadata": {},
   "source": [
    "#9.Define a function named remove_vowels that accepts a string and returns a string with all the vowels removed.\n"
   ]
  },
  {
   "cell_type": "code",
   "execution_count": 178,
   "id": "59c8a2f2",
   "metadata": {},
   "outputs": [],
   "source": [
    "string ='eLlo'"
   ]
  },
  {
   "cell_type": "code",
   "execution_count": 184,
   "id": "9630ff7c",
   "metadata": {},
   "outputs": [],
   "source": [
    "\n",
    "def remove_vowels(char):\n",
    "    new_string =\"\"\n",
    "    for char in string:\n",
    "        print(char, is_vowel(char))\n",
    "        if not is_vowel(char):\n",
    "            new_string += (char)\n",
    "    return new_string"
   ]
  },
  {
   "cell_type": "code",
   "execution_count": 185,
   "id": "2e33eabe",
   "metadata": {},
   "outputs": [
    {
     "name": "stdout",
     "output_type": "stream",
     "text": [
      "e True\n",
      "L False\n",
      "l False\n",
      "o True\n"
     ]
    },
    {
     "data": {
      "text/plain": [
       "''"
      ]
     },
     "execution_count": 185,
     "metadata": {},
     "output_type": "execute_result"
    }
   ],
   "source": [
    "remove_vowels('eEllo')"
   ]
  },
  {
   "cell_type": "markdown",
   "id": "094c8292",
   "metadata": {},
   "source": []
  },
  {
   "cell_type": "markdown",
   "id": "c247f83e",
   "metadata": {},
   "source": [
    "string = '1,055'\n",
    "print(string.replace(',',\"\"))"
   ]
  },
  {
   "cell_type": "markdown",
   "id": "e2fcfa11",
   "metadata": {},
   "source": [
    "#10.Define a function named normalize_name. It should accept a string and return a valid python identifier, that is:\n",
    "    -anything that is not a valid python identifier should be removed\n",
    "    -leading and trailing whitespace should be removed\n",
    "    -everything should be lowercase\n",
    "    -spaces should be replaced with underscores\n",
    "    -for example:\n",
    "    -Name will become name\n",
    "    -First Name will become first_name\n",
    "    -% Completed will become completed"
   ]
  },
  {
   "cell_type": "code",
   "execution_count": null,
   "id": "39edbd3f",
   "metadata": {},
   "outputs": [],
   "source": []
  },
  {
   "cell_type": "markdown",
   "id": "751910f6",
   "metadata": {},
   "source": [
    "#11.Write a function named cumulative_sum that accepts a list of numbers and returns a list that is the cumulative sum of the numbers in the list.\n",
    "cumulative_sum([1, 1, 1]) returns [1, 2, 3]\n",
    "cumulative_sum([1, 2, 3, 4]) returns [1, 3, 6, 10]"
   ]
  },
  {
   "cell_type": "code",
   "execution_count": null,
   "id": "02361412",
   "metadata": {},
   "outputs": [],
   "source": [
    "ls = [1,1,1]"
   ]
  },
  {
   "cell_type": "code",
   "execution_count": 187,
   "id": "6de39153",
   "metadata": {},
   "outputs": [
    {
     "ename": "NameError",
     "evalue": "name 'some_sums' is not defined",
     "output_type": "error",
     "traceback": [
      "\u001b[0;31m---------------------------------------------------------------------------\u001b[0m",
      "\u001b[0;31mNameError\u001b[0m                                 Traceback (most recent call last)",
      "Input \u001b[0;32mIn [187]\u001b[0m, in \u001b[0;36m<cell line: 9>\u001b[0;34m()\u001b[0m\n\u001b[1;32m      6\u001b[0m         \u001b[38;5;66;03m#print(total)\u001b[39;00m\n\u001b[1;32m      7\u001b[0m         some_sums\u001b[38;5;241m.\u001b[39mapend(total)\n\u001b[0;32m----> 9\u001b[0m \u001b[43msome_sums\u001b[49m\n",
      "\u001b[0;31mNameError\u001b[0m: name 'some_sums' is not defined"
     ]
    }
   ],
   "source": [
    "def cumulative_sum(ls):\n",
    "    total = 0\n",
    "    some_sums = []\n",
    "    for num in ls:\n",
    "        total += numb\n",
    "        #print(total)\n",
    "        some_sums.apend(total)\n",
    "\n",
    "some_sums"
   ]
  },
  {
   "cell_type": "code",
   "execution_count": null,
   "id": "861794e8",
   "metadata": {},
   "outputs": [],
   "source": [
    "cumul"
   ]
  },
  {
   "cell_type": "code",
   "execution_count": null,
   "id": "b4a3939a",
   "metadata": {},
   "outputs": [],
   "source": []
  }
 ],
 "metadata": {
  "kernelspec": {
   "display_name": "Python 3 (ipykernel)",
   "language": "python",
   "name": "python3"
  },
  "language_info": {
   "codemirror_mode": {
    "name": "ipython",
    "version": 3
   },
   "file_extension": ".py",
   "mimetype": "text/x-python",
   "name": "python",
   "nbconvert_exporter": "python",
   "pygments_lexer": "ipython3",
   "version": "3.9.13"
  }
 },
 "nbformat": 4,
 "nbformat_minor": 5
}
