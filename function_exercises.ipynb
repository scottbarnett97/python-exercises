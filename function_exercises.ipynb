{
 "cells": [
  {
   "cell_type": "markdown",
   "id": "30561bbf",
   "metadata": {},
   "source": [
    "#1. Define a function named is_two. It should accept one input and return True if the passed input is either the number or the string 2, False otherwise."
   ]
  },
  {
   "cell_type": "code",
   "execution_count": 1,
   "id": "2283730b",
   "metadata": {},
   "outputs": [],
   "source": [
    "def is_two(n):\n",
    "    return n == 2 or n == '2'"
   ]
  },
  {
   "cell_type": "code",
   "execution_count": 2,
   "id": "d930ac0d",
   "metadata": {},
   "outputs": [
    {
     "data": {
      "text/plain": [
       "True"
      ]
     },
     "execution_count": 2,
     "metadata": {},
     "output_type": "execute_result"
    }
   ],
   "source": [
    "is_two(2)"
   ]
  },
  {
   "cell_type": "markdown",
   "id": "1f1b269a",
   "metadata": {},
   "source": [
    "#2.Define a function named is_vowel. It should return True if the passed string is a vowel, False otherwise."
   ]
  },
  {
   "cell_type": "code",
   "execution_count": 3,
   "id": "8ece2f72",
   "metadata": {},
   "outputs": [],
   "source": [
    "def is_vowel(char):\n",
    "    if type(char) == str: \n",
    "        return char.lower() in list('aeiou')\n",
    "    else:\n",
    "        return False"
   ]
  },
  {
   "cell_type": "code",
   "execution_count": 4,
   "id": "707cee25",
   "metadata": {},
   "outputs": [
    {
     "data": {
      "text/plain": [
       "True"
      ]
     },
     "execution_count": 4,
     "metadata": {},
     "output_type": "execute_result"
    }
   ],
   "source": [
    "is_vowel('a')"
   ]
  },
  {
   "cell_type": "markdown",
   "id": "d6134b74",
   "metadata": {},
   "source": [
    "#3.Define a function named is_consonant. It should return True if the passed string is a consonant, False otherwise. Use your is_vowel function to accomplish this.\n"
   ]
  },
  {
   "cell_type": "code",
   "execution_count": 8,
   "id": "71c6c6b9",
   "metadata": {},
   "outputs": [],
   "source": [
    "def is_consonant(string):\n",
    "    if type(string) == str:\n",
    "        return not is_vowel(string)\n",
    "    else:\n",
    "        return False\n",
    "            "
   ]
  },
  {
   "cell_type": "code",
   "execution_count": 9,
   "id": "8755417e",
   "metadata": {},
   "outputs": [
    {
     "data": {
      "text/plain": [
       "True"
      ]
     },
     "execution_count": 9,
     "metadata": {},
     "output_type": "execute_result"
    }
   ],
   "source": [
    "is_consonant('b')"
   ]
  },
  {
   "cell_type": "markdown",
   "id": "97ee7500",
   "metadata": {},
   "source": [
    "#4.Define a function that accepts a string that is a word. The function should capitalize the first letter of the word if the word starts with a consonant.\n"
   ]
  },
  {
   "cell_type": "code",
   "execution_count": 10,
   "id": "76ba4751",
   "metadata": {},
   "outputs": [],
   "source": [
    "def capital_cons_start(string):\n",
    "    if is_consonsant(string[0]):\n",
    "        string= string.capitalize()\n",
    "    return string"
   ]
  },
  {
   "cell_type": "code",
   "execution_count": 11,
   "id": "7880b2ba",
   "metadata": {},
   "outputs": [
    {
     "data": {
      "text/plain": [
       "'Hello'"
      ]
     },
     "execution_count": 11,
     "metadata": {},
     "output_type": "execute_result"
    }
   ],
   "source": [
    "capital_cons_start('hello')"
   ]
  },
  {
   "cell_type": "markdown",
   "id": "ee01f73b",
   "metadata": {},
   "source": [
    "#5.Define a function named calculate_tip. It should accept a tip percentage (a number between 0 and 1) and the bill total, and return the amount to tip.\n"
   ]
  },
  {
   "cell_type": "code",
   "execution_count": 12,
   "id": "4b4a06a6",
   "metadata": {},
   "outputs": [],
   "source": [
    "def calculate_tip (bill,tip):\n",
    "    return(float(bill * tip))"
   ]
  },
  {
   "cell_type": "code",
   "execution_count": 13,
   "id": "7368c854",
   "metadata": {},
   "outputs": [
    {
     "data": {
      "text/plain": [
       "15.0"
      ]
     },
     "execution_count": 13,
     "metadata": {},
     "output_type": "execute_result"
    }
   ],
   "source": [
    "calculate_tip(100,.15)"
   ]
  },
  {
   "cell_type": "markdown",
   "id": "b2c748f3",
   "metadata": {},
   "source": [
    "#6.Define a function named apply_discount. It should accept a original price, and a discount percentage, and return the price after the discount is applied.\n"
   ]
  },
  {
   "cell_type": "code",
   "execution_count": 166,
   "id": "855e45cf",
   "metadata": {},
   "outputs": [],
   "source": [
    "def apply_discount(price,discount):\n",
    "    return(float(price-(price*discount)))"
   ]
  },
  {
   "cell_type": "code",
   "execution_count": 167,
   "id": "1de78384",
   "metadata": {},
   "outputs": [
    {
     "data": {
      "text/plain": [
       "170.0"
      ]
     },
     "execution_count": 167,
     "metadata": {},
     "output_type": "execute_result"
    }
   ],
   "source": [
    "apply_discount(200,.15)"
   ]
  },
  {
   "cell_type": "markdown",
   "id": "27654516",
   "metadata": {},
   "source": [
    "#7.Define a function named handle_commas. It should accept a string that is a number that contains commas in it as input, and return a number as output.\n"
   ]
  },
  {
   "cell_type": "code",
   "execution_count": 14,
   "id": "a9cba940",
   "metadata": {},
   "outputs": [],
   "source": [
    "def handle_commas(string):\n",
    "    return(int(string.replace(',',\"\")))\n",
    "    \n"
   ]
  },
  {
   "cell_type": "code",
   "execution_count": 15,
   "id": "58bef0ea",
   "metadata": {},
   "outputs": [
    {
     "data": {
      "text/plain": [
       "1999"
      ]
     },
     "execution_count": 15,
     "metadata": {},
     "output_type": "execute_result"
    }
   ],
   "source": [
    "handle_commas('19,99')"
   ]
  },
  {
   "cell_type": "markdown",
   "id": "f355ca4e",
   "metadata": {},
   "source": [
    "#8.Define a function named get_letter_grade. It should accept a number and return the letter grade associated with that number (A-F).\n"
   ]
  },
  {
   "cell_type": "code",
   "execution_count": 16,
   "id": "5fb60b3a",
   "metadata": {},
   "outputs": [],
   "source": [
    "def get_letter_grade(grade):\n",
    "    if grade >= 90:\n",
    "        letter_grade = 'A'\n",
    "    elif grade >= 80:\n",
    "        letter_grade = 'B'\n",
    "    elif grade >= 70:\n",
    "        letter_grade = 'C'\n",
    "    else:\n",
    "        letter_grade = 'F'\n",
    "    return letter_grade"
   ]
  },
  {
   "cell_type": "code",
   "execution_count": 17,
   "id": "5d90a7c7",
   "metadata": {},
   "outputs": [
    {
     "data": {
      "text/plain": [
       "'B'"
      ]
     },
     "execution_count": 17,
     "metadata": {},
     "output_type": "execute_result"
    }
   ],
   "source": [
    "get_letter_grade(89)"
   ]
  },
  {
   "cell_type": "markdown",
   "id": "e2ad390b",
   "metadata": {},
   "source": [
    "#9.Define a function named remove_vowels that accepts a string and returns a string with all the vowels removed.\n"
   ]
  },
  {
   "cell_type": "code",
   "execution_count": 19,
   "id": "9630ff7c",
   "metadata": {},
   "outputs": [],
   "source": [
    "def remove_vowels(string):\n",
    "    new_string = ''\n",
    "    for char in string:\n",
    "        if not is_vowel(char):\n",
    "            new_string += char\n",
    "    return new_string"
   ]
  },
  {
   "cell_type": "code",
   "execution_count": 20,
   "id": "2e33eabe",
   "metadata": {},
   "outputs": [
    {
     "data": {
      "text/plain": [
       "'ll'"
      ]
     },
     "execution_count": 20,
     "metadata": {},
     "output_type": "execute_result"
    }
   ],
   "source": [
    "remove_vowels('eEllo')"
   ]
  },
  {
   "cell_type": "markdown",
   "id": "e2fcfa11",
   "metadata": {},
   "source": [
    "#10.Define a function named normalize_name. It should accept a string and return a valid python identifier, that is:\n",
    "    -anything that is not a valid python identifier should be removed\n",
    "    -leading and trailing whitespace should be removed\n",
    "    -everything should be lowercase\n",
    "    -spaces should be replaced with underscores\n",
    "    -for example:\n",
    "    -Name will become name\n",
    "    -First Name will become first_name\n",
    "    -% Completed will become completed"
   ]
  },
  {
   "cell_type": "code",
   "execution_count": 21,
   "id": "39edbd3f",
   "metadata": {},
   "outputs": [],
   "source": [
    "def normalize_name(string):\n",
    "    new_string =''\n",
    "    for char in string:\n",
    "        if char.isdigit() or char.isalpha() or char == ' ':\n",
    "            new_string += char\n",
    "    new_string = new_string.strip().lower().replace(' ','_')\n",
    "    return new_string"
   ]
  },
  {
   "cell_type": "code",
   "execution_count": 23,
   "id": "4cf4bc8a",
   "metadata": {},
   "outputs": [
    {
     "data": {
      "text/plain": [
       "'jiuht893'"
      ]
     },
     "execution_count": 23,
     "metadata": {},
     "output_type": "execute_result"
    }
   ],
   "source": [
    "normalize_name('Jiuh&&t893')"
   ]
  },
  {
   "cell_type": "raw",
   "id": "5683c185",
   "metadata": {},
   "source": []
  },
  {
   "cell_type": "markdown",
   "id": "751910f6",
   "metadata": {},
   "source": [
    "#11.Write a function named cumulative_sum that accepts a list of numbers and returns a list that is the cumulative sum of the numbers in the list.\n",
    "cumulative_sum([1, 1, 1]) returns [1, 2, 3]\n",
    "cumulative_sum([1, 2, 3, 4]) returns [1, 3, 6, 10]"
   ]
  },
  {
   "cell_type": "code",
   "execution_count": null,
   "id": "02361412",
   "metadata": {},
   "outputs": [],
   "source": [
    "ls = [1,1,1]"
   ]
  },
  {
   "cell_type": "code",
   "execution_count": 24,
   "id": "6de39153",
   "metadata": {},
   "outputs": [],
   "source": [
    "def cumulative_sum(ls_numbs):\n",
    "    total = 0\n",
    "    some_sums = []\n",
    "    for numb in ls_numbs:\n",
    "        total += numb\n",
    "        some_sums.append(total)\n",
    "    return some_sums"
   ]
  },
  {
   "cell_type": "code",
   "execution_count": null,
   "id": "b4a3939a",
   "metadata": {},
   "outputs": [],
   "source": [
    "test_input = '2'\n",
    "if test_input == 2 or test_input == '2':\n",
    "    print(True)\n",
    "True\n",
    "def is_two(string):\n",
    "    if string == 2 or string == '2':\n",
    "        return True\n",
    "    else:\n",
    "        return False\n",
    "#shortcut that works exactly the same\n",
    "def is_two(string):\n",
    "    return string == 2 or string == '2'\n",
    "is_two(2)\n",
    "True\n",
    "is_two('2')\n",
    "True\n",
    "is_two(2.0)\n",
    "True\n",
    "is_two(5)\n",
    "False\n",
    "is_two(10)\n",
    "False\n",
    "is_two(\"coffee\")\n",
    "False\n",
    "Define a function named is_vowel. It should return True if the passed string is a vowel, False otherwise.\n",
    "string = 'a'\n",
    "if string == 'a' or string == 'e':\n",
    "    print(True)\n",
    "True\n",
    "vowels = ['a','e','i','o','u']\n",
    "if string in vowels:\n",
    "    print(True)\n",
    "True\n",
    "string_vowels = 'aeiou'\n",
    "string = 'ae'\n",
    "list(string_vowels)\n",
    "['a', 'e', 'i', 'o', 'u']\n",
    "if string in string_vowels:\n",
    "    print(True)\n",
    "True\n",
    "def is_vowel(string):\n",
    "    string_vowels = 'aeiou'\n",
    "    \n",
    "    if type(string) == str:\n",
    "        return string.lower() in list(string_vowels)\n",
    "    else:\n",
    "        return False\n",
    "is_vowel('a')\n",
    "True\n",
    "is_vowel('A')\n",
    "True\n",
    "is_vowel('aeiou')\n",
    "False\n",
    "is_vowel('p')\n",
    "False\n",
    "is_vowel(1)\n",
    "False\n",
    "is_vowel('1')\n",
    "False\n",
    "Define a function named is_consonant. It should return True if the passed string is a consonant, False otherwise. Use your is_vowel function to accomplish this.\n",
    "string = 'c'\n",
    "is_vowel(string)\n",
    "False\n",
    "not is_vowel(string)\n",
    "True\n",
    "string = '!'\n",
    "string.isalpha()\n",
    "False\n",
    "string = 'A'\n",
    "string.isalpha()\n",
    "True\n",
    "def is_consonant(string):\n",
    "    if type(string) == str:    \n",
    "        if string.isalpha() == True:\n",
    "            if not is_vowel(string):\n",
    "                return True\n",
    "            else:\n",
    "                return False # this is false when the input is not a consonant\n",
    "        else:\n",
    "            return False # this is false when the input is not a letter\n",
    "    else:\n",
    "        return False #this is false when the input is not a string\n",
    "is_consonant('!')\n",
    "False\n",
    "is_consonant('a')\n",
    "False\n",
    "is_consonant('A')\n",
    "False\n",
    "is_consonant('b')\n",
    "True\n",
    "is_consonant('B')\n",
    "True\n",
    "is_consonant(1)\n",
    "False\n",
    "Define a function that accepts a string that is a word. The function should capitalize the first letter of the word if the word starts with a consonant.\n",
    "string = 'hello'\n",
    "is_consonant(string[0])\n",
    "True\n",
    "if is_consonant(string[0]):\n",
    "    print(string.capitalize())\n",
    "Hello\n",
    "def capital_cons_start(string):\n",
    "    if is_consonant(string[0]): #calling my is_consonant function\n",
    "        string = string.capitalize()\n",
    "    return string\n",
    "capital_cons_start('coffee')\n",
    "'Coffee'\n",
    "capital_cons_start('apple')\n",
    "'apple'\n",
    "Define a function named calculate_tip. It should accept a tip percentage (a number between 0 and 1) and the bill total, and return the amount to tip.\n",
    "tip_perc = .2\n",
    "bill_total = 10\n",
    "bill_total * tip_perc + bill_total\n",
    "12.0\n",
    "def calculate_tip(bill_total, tip_perc=.2):\n",
    "    return bill_total * tip_perc + bill_total\n",
    "calculate_tip(100.00)\n",
    "120.0\n",
    "calculate_tip(10)\n",
    "12.0\n",
    "calculate_tip(100.00, .30)\n",
    "130.0\n",
    "Define a function named apply_discount. It should accept a original price, and a discount percentage, and return the price after the discount is applied.\n",
    "og_price = 10\n",
    "discount = .9\n",
    "og_price - og_price * discount\n",
    "1.0\n",
    "def apply_discount(og_price, discount):\n",
    "    return og_price - og_price * discount\n",
    "apply_discount(10,.6)\n",
    "4.0\n",
    "apply_discount(20,.25)\n",
    "15.0\n",
    "Define a function named handle_commas. It should accept a string that is a number that contains commas in it as input, and return a number as output.\n",
    "string_number = '1,000,000'\n",
    "int(string_number)\n",
    "---------------------------------------------------------------------------\n",
    "ValueError                                Traceback (most recent call last)\n",
    "Input In [457], in <cell line: 1>()\n",
    "----> 1 int(string_number)\n",
    "\n",
    "ValueError: invalid literal for int() with base 10: '1,000,000'\n",
    "int(string_number.replace(',',''))\n",
    "1000000\n",
    "def handle_commas(string_number):\n",
    "    return int(string_number.replace(',',''))\n",
    "handle_commas(\"1,234\")\n",
    "1234\n",
    "handle_commas(\"1,234,456\")\n",
    "1234456\n",
    "Define a function named get_letter_grade. It should accept a number and return the letter grade associated with that number (A-F).\n",
    "grade = 99\n",
    "if grade >= 90:\n",
    "    letter_grade = 'A'\n",
    "elif grade >= 80:\n",
    "    letter_grade = 'B'\n",
    "elif grade >= 70:\n",
    "    letter_grade = 'C'\n",
    "else:\n",
    "    letter_grade = 'F'\n",
    "letter_grade\n",
    "'A'\n",
    "def get_letter_grade(grade):\n",
    "    if grade >= 90:\n",
    "        letter_grade = 'A'\n",
    "    elif grade >= 80:\n",
    "        letter_grade = 'B'\n",
    "    elif grade >= 70:\n",
    "        letter_grade = 'C'\n",
    "    else:\n",
    "        letter_grade = 'F' \n",
    "        \n",
    "    return letter_grade\n",
    "get_letter_grade(100)\n",
    "'A'\n",
    "get_letter_grade(50)\n",
    "'F'\n",
    "get_letter_grade(88)\n",
    "'B'\n",
    "Define a function named remove_vowels that accepts a string and returns a string with all the vowels removed.\n",
    "string = 'hEllo'\n",
    "new_string = ''\n",
    "\n",
    "for char in string:\n",
    "    print(char, is_vowel(char))\n",
    "    if not is_vowel(char):\n",
    "        new_string += char\n",
    "h False\n",
    "E True\n",
    "l False\n",
    "l False\n",
    "o True\n",
    "new_string\n",
    "'hll'\n",
    "def remove_vowels(string):\n",
    "    new_string = ''\n",
    "\n",
    "    for char in string:\n",
    "        if not is_vowel(char):\n",
    "            new_string += char\n",
    "            \n",
    "    return new_string\n",
    "remove_vowels('hello')\n",
    "'hll'\n",
    "remove_vowels(\"coffee\")\n",
    "'cff'\n",
    "remove_vowels('Hello pAgel class how are you doing tOday!')\n",
    "'Hll pgl clss hw r y dng tdy!'\n",
    "Define a function named normalize_name. It should accept a string and return a valid python identifier, that is:\n",
    "anything that is not a valid python identifier should be removed\n",
    "leading and trailing whitespace should be removed\n",
    "everything should be lowercase\n",
    "spaces should be replaced with underscores\n",
    "for example:\n",
    "Name will become name\n",
    "First Name will become first_name\n",
    "% Completed will become completed\n",
    "string = '    % Name 2ANOTHER  '\n",
    "string = string.strip().lower().replace(' ','_') #chaining will execute from left to right\n",
    "string\n",
    "'%_name_2another'\n",
    "new_string = ''\n",
    "\n",
    "for char in string:\n",
    "#     print(char)\n",
    "    if char.isalpha() or char.isdigit() or char == '_':\n",
    "#         print('this is valid')\n",
    "        new_string += char\n",
    "    \n",
    "new_string\n",
    "'_name_2another'\n",
    "new_string.strip('_')\n",
    "'name_2another'\n",
    "def normalize_name(string):\n",
    "    string = string.strip().lower().replace(' ','_')\n",
    "    \n",
    "    new_string = ''\n",
    "\n",
    "    for char in string:\n",
    "    #     print(char)\n",
    "        if char.isalpha() or char.isdigit() or char == '_':\n",
    "    #         print('this is valid')\n",
    "            new_string += char\n",
    "\n",
    "    new_string = new_string.strip('_')\n",
    "    \n",
    "    return new_string\n",
    "normalize_name('Name')\n",
    "'name'\n",
    "normalize_name('First Name')\n",
    "'first_name'\n",
    "normalize_name('% Completed')\n",
    "'completed'\n",
    "Write a function named cumulative_sum that accepts a list of numbers and returns a list that is the cumulative sum of the numbers in the list.\n",
    "cumulative_sum([1, 1, 1]) returns [1, 2, 3]\n",
    "cumulative_sum([1, 2, 3, 4]) returns [1, 3, 6, 10]\n",
    "ls = [1,1,1]\n",
    "total = 0 \n",
    "some_sums = []\n",
    "\n",
    "for numb in ls:\n",
    "#     print(numb)\n",
    "    total += numb\n",
    "    print(total)\n",
    "    some_sums.append(total)\n",
    "    \n",
    "some_sums\n",
    "1\n",
    "2\n",
    "3\n",
    "[1, 2, 3]\n",
    "def cumulative_sum(ls):\n",
    "    total = 0 \n",
    "    some_sums = []\n",
    "\n",
    "    for numb in ls:\n",
    "    #     print(numb)\n",
    "        total += numb\n",
    "#         print(total)\n",
    "        some_sums.append(total)\n",
    "\n",
    "    return some_sums\n",
    "cumulative_sum([1, 1, 1])\n",
    "[1, 2, 3]\n",
    "cumulative_sum([1, 2, 3, 4])\n",
    "[1, 3, 6, 10]\n",
    " "
   ]
  }
 ],
 "metadata": {
  "kernelspec": {
   "display_name": "Python 3 (ipykernel)",
   "language": "python",
   "name": "python3"
  },
  "language_info": {
   "codemirror_mode": {
    "name": "ipython",
    "version": 3
   },
   "file_extension": ".py",
   "mimetype": "text/x-python",
   "name": "python",
   "nbconvert_exporter": "python",
   "pygments_lexer": "ipython3",
   "version": "3.9.13"
  }
 },
 "nbformat": 4,
 "nbformat_minor": 5
}
