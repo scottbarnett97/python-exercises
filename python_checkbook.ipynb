{
 "cells": [
  {
   "cell_type": "markdown",
   "id": "c023c0dc",
   "metadata": {},
   "source": [
    "# Checkbook Project\n"
   ]
  },
  {
   "cell_type": "markdown",
   "id": "9dd1120f",
   "metadata": {},
   "source": [
    "When run, the application should welcome the user, and prompt them for an action to take:\n",
    "\n",
    "view current balance\n",
    "add a debit (withdrawal)\n",
    "add a credit (deposit)\n",
    "exit\n",
    "The application should notify the user if the input is invalid and prompt for another choice.\n",
    "\n",
    "The application should persist between times that it is run.\n",
    "\n",
    "Example, if you run the application, add some credits, exit the application and run it again, you should still see the balance that you previously created. In order to do this, your application will need to store its data in a text file. Consider creating a file where each line in the file represents a single transaction.\n",
    "Utilize functions to call the balance, debit, credit, and exit"
   ]
  },
  {
   "cell_type": "code",
   "execution_count": 22,
   "id": "5f60e11c",
   "metadata": {},
   "outputs": [
    {
     "name": "stdout",
     "output_type": "stream",
     "text": [
      "   ---  Welcome to your terminal checkbook!  --- \n",
      "\n",
      "What would you like to do?\n",
      "\n",
      "Make a selection using 1-4\n",
      "  1) view current balance\n",
      "  2) record a debit (withdraw)\n",
      "  3) record a credit (deposit)\n",
      "  4) exit\n",
      "4\n"
     ]
    },
    {
     "ename": "SyntaxError",
     "evalue": "'break' outside loop (3855267975.py, line 2)",
     "output_type": "error",
     "traceback": [
      "\u001b[0;36m  Input \u001b[0;32mIn [22]\u001b[0;36m\u001b[0m\n\u001b[0;31m    break\u001b[0m\n\u001b[0m    ^\u001b[0m\n\u001b[0;31mSyntaxError\u001b[0m\u001b[0;31m:\u001b[0m 'break' outside loop\n"
     ]
    }
   ],
   "source": [
    "todo = input(\"   ---  Welcome to your terminal checkbook!  --- \\n\\nWhat would you like to do?\\n\\nMake a selection using 1-4\\n  1) view current balance\\n  2) record a debit (withdraw)\\n  3) record a credit (deposit)\\n  4) exit\\n\")\n",
    "If todo "
   ]
  },
  {
   "cell_type": "code",
   "execution_count": 25,
   "id": "6c9f0c65",
   "metadata": {},
   "outputs": [
    {
     "name": "stdout",
     "output_type": "stream",
     "text": [
      "Your current balance is: $(total_balance)\n"
     ]
    }
   ],
   "source": [
    "# IF 1\n",
    "print(\"Your current balance is: $(total_balance)\")"
   ]
  },
  {
   "cell_type": "code",
   "execution_count": 26,
   "id": "de3261fd",
   "metadata": {},
   "outputs": [
    {
     "name": "stdout",
     "output_type": "stream",
     "text": [
      "How much is the debit (withdraw)?\n",
      "7\n"
     ]
    },
    {
     "ename": "SyntaxError",
     "evalue": "'break' outside loop (1129207435.py, line 4)",
     "output_type": "error",
     "traceback": [
      "\u001b[0;36m  Input \u001b[0;32mIn [26]\u001b[0;36m\u001b[0m\n\u001b[0;31m    break\u001b[0m\n\u001b[0m    ^\u001b[0m\n\u001b[0;31mSyntaxError\u001b[0m\u001b[0;31m:\u001b[0m 'break' outside loop\n"
     ]
    }
   ],
   "source": [
    "# IF 2\n",
    "\n",
    "debit = input('How much is the debit (withdraw)?\\n')\n",
    "break"
   ]
  },
  {
   "cell_type": "code",
   "execution_count": 28,
   "id": "0819622a",
   "metadata": {},
   "outputs": [
    {
     "name": "stdout",
     "output_type": "stream",
     "text": [
      "How much is the credit (deposit)?\n",
      "p\n"
     ]
    },
    {
     "ename": "SyntaxError",
     "evalue": "'break' outside loop (2746830939.py, line 3)",
     "output_type": "error",
     "traceback": [
      "\u001b[0;36m  Input \u001b[0;32mIn [28]\u001b[0;36m\u001b[0m\n\u001b[0;31m    break\u001b[0m\n\u001b[0m    ^\u001b[0m\n\u001b[0;31mSyntaxError\u001b[0m\u001b[0;31m:\u001b[0m 'break' outside loop\n"
     ]
    }
   ],
   "source": [
    "# IF 3\n",
    "credit = input('How much is the credit (deposit)?\\n')\n",
    "break"
   ]
  },
  {
   "cell_type": "code",
   "execution_count": 30,
   "id": "520d7387",
   "metadata": {},
   "outputs": [
    {
     "name": "stdout",
     "output_type": "stream",
     "text": [
      "Thanks for 'checking' in,\n",
      "Have a GREAT day!!!\n"
     ]
    }
   ],
   "source": [
    "# IF 4\n",
    "\n",
    "print(\"Thanks for 'checking' in,\\nHave a GREAT day!!!\")"
   ]
  },
  {
   "cell_type": "code",
   "execution_count": null,
   "id": "96037b23",
   "metadata": {},
   "outputs": [],
   "source": []
  }
 ],
 "metadata": {
  "kernelspec": {
   "display_name": "Python 3 (ipykernel)",
   "language": "python",
   "name": "python3"
  },
  "language_info": {
   "codemirror_mode": {
    "name": "ipython",
    "version": 3
   },
   "file_extension": ".py",
   "mimetype": "text/x-python",
   "name": "python",
   "nbconvert_exporter": "python",
   "pygments_lexer": "ipython3",
   "version": "3.9.13"
  }
 },
 "nbformat": 4,
 "nbformat_minor": 5
}
