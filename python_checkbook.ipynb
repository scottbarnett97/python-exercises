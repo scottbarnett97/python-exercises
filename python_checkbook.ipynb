{
 "cells": [
  {
   "cell_type": "markdown",
   "id": "2c878607",
   "metadata": {},
   "source": [
    "# Checkbook Project\n"
   ]
  },
  {
   "cell_type": "markdown",
   "id": "8f05cadf",
   "metadata": {},
   "source": [
    "When run, the application should welcome the user, and prompt them for an action to take:\n",
    "\n",
    "view current balance\n",
    "add a debit (withdrawal)\n",
    "add a credit (deposit)\n",
    "exit\n",
    "The application should notify the user if the input is invalid and prompt for another choice.\n",
    "\n",
    "The application should persist between times that it is run.\n",
    "\n",
    "Example, if you run the application, add some credits, exit the application and run it again, you should still see the balance that you previously created. In order to do this, your application will need to store its data in a text file. Consider creating a file where each line in the file represents a single transaction.\n",
    "Utilize functions to call the balance, debit, credit, and exit"
   ]
  },
  {
   "cell_type": "code",
   "execution_count": 162,
   "id": "e31d1f9b",
   "metadata": {},
   "outputs": [
    {
     "name": "stdout",
     "output_type": "stream",
     "text": [
      "   ---  Welcome to your terminal checkbook!  --- \n",
      "\n",
      "What would you like to do?\n",
      "\n",
      "Make a selection using 1-4\n",
      "  1) view current balance\n",
      "  2) record a debit (withdraw)\n",
      "  3) record a credit (deposit)\n",
      "  4) exit\n",
      "Your choice (1-4)?: 4\n",
      "Have a good day!\n"
     ]
    }
   ],
   "source": [
    "import os\n",
    "\n",
    "if not os.path.exists('ledger.txt'):\n",
    "    with open('ledger.txt','w') as z:\n",
    "        z.write('0')\n",
    "\n",
    "def total_balance():\n",
    "    with open('ledger.txt','r') as z:\n",
    "        balance = float(z.read())\n",
    "    print(f'your current balance is: ${balance}')\n",
    "    \n",
    "def a_debit():\n",
    "    value = input(\"How much is the debit (withdraw)?\\n Format = ####.## no comma or $\\n\" )\n",
    "    try:\n",
    "        value = float(value)\n",
    "        if value < 0:\n",
    "            raise ValueError\n",
    "    except ValueError:\n",
    "        print('Please check format and try again')\n",
    "        a_debit()\n",
    "        return\n",
    "    with open('ledger.txt','r') as z:\n",
    "        balance = float(z.read())\n",
    "    if value > balance:\n",
    "        print('You dont have that much $$')\n",
    "        return\n",
    "    balance -= value\n",
    "    with open('ledger.txt','w') as z:\n",
    "        z.write(str(balance))\n",
    "        print(f'Withdraw successful new balance is: ${balance}'))\n",
    "\n",
    "def a_credit():\n",
    "    value = input(\"How much is the credit (deposit)?\\n Format = ####.## no comma or $\\n\" )\n",
    "    try:\n",
    "        value = float(value)\n",
    "        if value < 0:\n",
    "            raise ValueError\n",
    "    except ValueError:\n",
    "        print('Please check format and try again')\n",
    "        a_credit()\n",
    "        return\n",
    "    with open('ledger.txt','r') as z:\n",
    "        balance = float(z.read())\n",
    "    balance += value\n",
    "    with open('ledger.txt','w') as z:\n",
    "        z.write(str(balance))\n",
    "        print(f'Deposit successful new balance is: ${balance}'))\n",
    "    \n",
    "\n",
    "while True:\n",
    "    choice = input(\"   ---  Welcome to your terminal checkbook!  --- \\n\\nWhat would you like to do?\\n\\nMake a selection using 1-4\\n  1) view current balance\\n  2) record a debit (withdraw)\\n  3) record a credit (deposit)\\n  4) exit\\nYour choice (1-4)?: \")\n",
    "    if choice == '1':\n",
    "        total_balance() \n",
    "    elif choice == '2':\n",
    "        a_debit()\n",
    "    elif choice == '3':\n",
    "        a_credit()\n",
    "    elif choice == '4':\n",
    "        print(\"Have a good day!\")\n",
    "        break\n",
    "    else:\n",
    "        print(\"Please try again, something is wrong with your input\")\n",
    "        \n",
    "    \n",
    "        \n",
    "        \n",
    "        "
   ]
  },
  {
   "cell_type": "code",
   "execution_count": 36,
   "id": "c5724fc4",
   "metadata": {},
   "outputs": [
    {
     "name": "stdout",
     "output_type": "stream",
     "text": [
      "Please enter only the number of your selection i.e 1 or 2 or 3 or 4\n"
     ]
    }
   ],
   "source": []
  },
  {
   "cell_type": "code",
   "execution_count": null,
   "id": "ba7f756b",
   "metadata": {},
   "outputs": [],
   "source": [
    "if choice == 1:\n",
    "    total_balance() \n",
    "if choice == 2:\n",
    "    a_debit()\n",
    "if choice == 3:\n",
    "    a_credit()\n",
    "if choice == 4:"
   ]
  },
  {
   "cell_type": "code",
   "execution_count": null,
   "id": "a37532f0",
   "metadata": {},
   "outputs": [],
   "source": [
    "# debit a_debit\n",
    "choice1 = a\n",
    "if choice "
   ]
  },
  {
   "cell_type": "code",
   "execution_count": 25,
   "id": "bee2f929",
   "metadata": {},
   "outputs": [
    {
     "name": "stdout",
     "output_type": "stream",
     "text": [
      "Your current balance is: $(total_balance)\n"
     ]
    }
   ],
   "source": [
    "# IF 1 total_balance\n",
    "print(\"Your current balance is: $(total_balance)\")"
   ]
  },
  {
   "cell_type": "code",
   "execution_count": 130,
   "id": "af271ed0",
   "metadata": {},
   "outputs": [
    {
     "name": "stdout",
     "output_type": "stream",
     "text": [
      "How much is the debit (withdraw)?\n",
      " Format = ####.## no comma or $\n",
      "33\n",
      "33.0\n",
      "You are debiting $33\n"
     ]
    },
    {
     "ename": "KeyboardInterrupt",
     "evalue": "Interrupted by user",
     "output_type": "error",
     "traceback": [
      "\u001b[0;31m---------------------------------------------------------------------------\u001b[0m",
      "\u001b[0;31mKeyboardInterrupt\u001b[0m                         Traceback (most recent call last)",
      "Input \u001b[0;32mIn [130]\u001b[0m, in \u001b[0;36m<cell line: 3>\u001b[0;34m()\u001b[0m\n\u001b[1;32m      1\u001b[0m \u001b[38;5;66;03m# IF 2\u001b[39;00m\n\u001b[1;32m      2\u001b[0m \u001b[38;5;28;01mwhile\u001b[39;00m \u001b[38;5;28;01mTrue\u001b[39;00m:\n\u001b[0;32m----> 3\u001b[0m     debit \u001b[38;5;241m=\u001b[39m \u001b[38;5;28;43minput\u001b[39;49m\u001b[43m(\u001b[49m\u001b[38;5;124;43m\"\u001b[39;49m\u001b[38;5;124;43mHow much is the debit (withdraw)?\u001b[39;49m\u001b[38;5;130;43;01m\\n\u001b[39;49;00m\u001b[38;5;124;43m Format = ####.## no comma or $\u001b[39;49m\u001b[38;5;130;43;01m\\n\u001b[39;49;00m\u001b[38;5;124;43m\"\u001b[39;49m\u001b[43m \u001b[49m\u001b[43m)\u001b[49m\n\u001b[1;32m      4\u001b[0m     debit \u001b[38;5;241m=\u001b[39m debit\u001b[38;5;241m.\u001b[39mreplace(\u001b[38;5;124m\"\u001b[39m\u001b[38;5;124m$\u001b[39m\u001b[38;5;124m\"\u001b[39m, \u001b[38;5;124m\"\u001b[39m\u001b[38;5;124m\"\u001b[39m)\u001b[38;5;241m.\u001b[39mreplace(\u001b[38;5;124m\"\u001b[39m\u001b[38;5;124m,\u001b[39m\u001b[38;5;124m\"\u001b[39m, \u001b[38;5;124m\"\u001b[39m\u001b[38;5;124m\"\u001b[39m)\n\u001b[1;32m      5\u001b[0m     \u001b[38;5;28mprint\u001b[39m(\u001b[38;5;28mfloat\u001b[39m(debit))\n",
      "File \u001b[0;32m/opt/homebrew/anaconda3/lib/python3.9/site-packages/ipykernel/kernelbase.py:1177\u001b[0m, in \u001b[0;36mKernel.raw_input\u001b[0;34m(self, prompt)\u001b[0m\n\u001b[1;32m   1173\u001b[0m \u001b[38;5;28;01mif\u001b[39;00m \u001b[38;5;129;01mnot\u001b[39;00m \u001b[38;5;28mself\u001b[39m\u001b[38;5;241m.\u001b[39m_allow_stdin:\n\u001b[1;32m   1174\u001b[0m     \u001b[38;5;28;01mraise\u001b[39;00m StdinNotImplementedError(\n\u001b[1;32m   1175\u001b[0m         \u001b[38;5;124m\"\u001b[39m\u001b[38;5;124mraw_input was called, but this frontend does not support input requests.\u001b[39m\u001b[38;5;124m\"\u001b[39m\n\u001b[1;32m   1176\u001b[0m     )\n\u001b[0;32m-> 1177\u001b[0m \u001b[38;5;28;01mreturn\u001b[39;00m \u001b[38;5;28;43mself\u001b[39;49m\u001b[38;5;241;43m.\u001b[39;49m\u001b[43m_input_request\u001b[49m\u001b[43m(\u001b[49m\n\u001b[1;32m   1178\u001b[0m \u001b[43m    \u001b[49m\u001b[38;5;28;43mstr\u001b[39;49m\u001b[43m(\u001b[49m\u001b[43mprompt\u001b[49m\u001b[43m)\u001b[49m\u001b[43m,\u001b[49m\n\u001b[1;32m   1179\u001b[0m \u001b[43m    \u001b[49m\u001b[38;5;28;43mself\u001b[39;49m\u001b[38;5;241;43m.\u001b[39;49m\u001b[43m_parent_ident\u001b[49m\u001b[43m[\u001b[49m\u001b[38;5;124;43m\"\u001b[39;49m\u001b[38;5;124;43mshell\u001b[39;49m\u001b[38;5;124;43m\"\u001b[39;49m\u001b[43m]\u001b[49m\u001b[43m,\u001b[49m\n\u001b[1;32m   1180\u001b[0m \u001b[43m    \u001b[49m\u001b[38;5;28;43mself\u001b[39;49m\u001b[38;5;241;43m.\u001b[39;49m\u001b[43mget_parent\u001b[49m\u001b[43m(\u001b[49m\u001b[38;5;124;43m\"\u001b[39;49m\u001b[38;5;124;43mshell\u001b[39;49m\u001b[38;5;124;43m\"\u001b[39;49m\u001b[43m)\u001b[49m\u001b[43m,\u001b[49m\n\u001b[1;32m   1181\u001b[0m \u001b[43m    \u001b[49m\u001b[43mpassword\u001b[49m\u001b[38;5;241;43m=\u001b[39;49m\u001b[38;5;28;43;01mFalse\u001b[39;49;00m\u001b[43m,\u001b[49m\n\u001b[1;32m   1182\u001b[0m \u001b[43m\u001b[49m\u001b[43m)\u001b[49m\n",
      "File \u001b[0;32m/opt/homebrew/anaconda3/lib/python3.9/site-packages/ipykernel/kernelbase.py:1219\u001b[0m, in \u001b[0;36mKernel._input_request\u001b[0;34m(self, prompt, ident, parent, password)\u001b[0m\n\u001b[1;32m   1216\u001b[0m             \u001b[38;5;28;01mbreak\u001b[39;00m\n\u001b[1;32m   1217\u001b[0m \u001b[38;5;28;01mexcept\u001b[39;00m \u001b[38;5;167;01mKeyboardInterrupt\u001b[39;00m:\n\u001b[1;32m   1218\u001b[0m     \u001b[38;5;66;03m# re-raise KeyboardInterrupt, to truncate traceback\u001b[39;00m\n\u001b[0;32m-> 1219\u001b[0m     \u001b[38;5;28;01mraise\u001b[39;00m \u001b[38;5;167;01mKeyboardInterrupt\u001b[39;00m(\u001b[38;5;124m\"\u001b[39m\u001b[38;5;124mInterrupted by user\u001b[39m\u001b[38;5;124m\"\u001b[39m) \u001b[38;5;28;01mfrom\u001b[39;00m \u001b[38;5;28mNone\u001b[39m\n\u001b[1;32m   1220\u001b[0m \u001b[38;5;28;01mexcept\u001b[39;00m \u001b[38;5;167;01mException\u001b[39;00m:\n\u001b[1;32m   1221\u001b[0m     \u001b[38;5;28mself\u001b[39m\u001b[38;5;241m.\u001b[39mlog\u001b[38;5;241m.\u001b[39mwarning(\u001b[38;5;124m\"\u001b[39m\u001b[38;5;124mInvalid Message:\u001b[39m\u001b[38;5;124m\"\u001b[39m, exc_info\u001b[38;5;241m=\u001b[39m\u001b[38;5;28;01mTrue\u001b[39;00m)\n",
      "\u001b[0;31mKeyboardInterrupt\u001b[0m: Interrupted by user"
     ]
    }
   ],
   "source": [
    "# IF 2 a_debit\n",
    "while True:\n",
    "    debit = input(\"How much is the debit (withdraw)?\\n Format = ####.## no comma or $\\n\" )\n",
    "    debit = debit.replace(\"$\", \"\").replace(\",\", \"\")\n",
    "    print(float(debit))\n",
    "    if debit == debit.isalpha:\n",
    "        print(\"Sorry, no letters. Please check format and try again.\")\n",
    "        continue\n",
    "    else:\n",
    "        print(f\"You are debiting ${debit}\")\n",
    "    \n",
    "\n"
   ]
  },
  {
   "cell_type": "code",
   "execution_count": 141,
   "id": "1b5b48e4",
   "metadata": {},
   "outputs": [
    {
     "name": "stdout",
     "output_type": "stream",
     "text": [
      "How much is the debit (withdraw)?\n",
      " Format = ####.## no comma or $\n",
      "22\n",
      "You are debiting $22.0\n"
     ]
    }
   ],
   "source": [
    "amount = input(\"How much is the debit (withdraw)?\\n Format = ####.## no comma or $\\n\" )\n",
    "amount = amount.replace(\"$\", \"\").replace(\",\", \"\")\n",
    "if amount == amount.isalpha:\n",
    "    print(\"Sorry, no letters. Please check format and try again.\")\n",
    "else:\n",
    "    amount = float(amount)\n",
    "    print(f\"You are debiting ${amount}\")"
   ]
  },
  {
   "cell_type": "code",
   "execution_count": 153,
   "id": "07d94f8b",
   "metadata": {},
   "outputs": [
    {
     "name": "stdout",
     "output_type": "stream",
     "text": [
      "ok\n"
     ]
    }
   ],
   "source": [
    "# amount clean up\n",
    "amount = '$ok'\n",
    "amount = amount.replace(\"$\", \"\").replace(\",\", \"\")\n",
    "while True:\n",
    "    if amount == amount.isdigit:\n",
    "        print(\"Sorry, no letters. Please check format and try again.\")\n",
    "    else:\n",
    "       # amount = float(amount)\n",
    "        print(amount)\n",
    "        break\n",
    "        \n"
   ]
  },
  {
   "cell_type": "code",
   "execution_count": null,
   "id": "08707796",
   "metadata": {},
   "outputs": [],
   "source": [
    "debit = 'a'\n",
    "if debit.isalpha:\n",
    "    print(\"Sorry, no letters. Please check format and try again.\")\n",
    "        "
   ]
  },
  {
   "cell_type": "code",
   "execution_count": 32,
   "id": "3b8eeb71",
   "metadata": {},
   "outputs": [
    {
     "name": "stdout",
     "output_type": "stream",
     "text": [
      "How much is the credit (deposit)?\n",
      "Format = ####.## no comma or $\n",
      "j\n"
     ]
    },
    {
     "ename": "SyntaxError",
     "evalue": "'break' outside loop (1808109508.py, line 3)",
     "output_type": "error",
     "traceback": [
      "\u001b[0;36m  Input \u001b[0;32mIn [32]\u001b[0;36m\u001b[0m\n\u001b[0;31m    break\u001b[0m\n\u001b[0m    ^\u001b[0m\n\u001b[0;31mSyntaxError\u001b[0m\u001b[0;31m:\u001b[0m 'break' outside loop\n"
     ]
    }
   ],
   "source": [
    "# IF 3 a_credit\n",
    "credit = input('How much is the credit (deposit)?\\nFormat = ####.## no comma or $\\n')\n",
    "break"
   ]
  },
  {
   "cell_type": "code",
   "execution_count": 30,
   "id": "12b7cb6e",
   "metadata": {},
   "outputs": [
    {
     "name": "stdout",
     "output_type": "stream",
     "text": [
      "Thanks for 'checking' in,\n",
      "Have a GREAT day!!!\n"
     ]
    }
   ],
   "source": [
    "# IF 4 terminate\n",
    "\n",
    "print(\"Thanks for 'checking' in,\\nHave a GREAT day!!!\")"
   ]
  },
  {
   "cell_type": "code",
   "execution_count": null,
   "id": "c4ffcc82",
   "metadata": {},
   "outputs": [],
   "source": []
  }
 ],
 "metadata": {
  "kernelspec": {
   "display_name": "Python 3 (ipykernel)",
   "language": "python",
   "name": "python3"
  },
  "language_info": {
   "codemirror_mode": {
    "name": "ipython",
    "version": 3
   },
   "file_extension": ".py",
   "mimetype": "text/x-python",
   "name": "python",
   "nbconvert_exporter": "python",
   "pygments_lexer": "ipython3",
   "version": "3.9.13"
  }
 },
 "nbformat": 4,
 "nbformat_minor": 5
}
